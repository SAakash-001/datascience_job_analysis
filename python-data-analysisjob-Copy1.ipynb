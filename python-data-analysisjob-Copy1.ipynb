{
 "cells": [
  {
   "cell_type": "markdown",
   "metadata": {
    "heading_collapsed": true
   },
   "source": [
    "# Exploring Trends and Insights in Data Science and Analytics: A Comprehensive Analysis\n",
    "\n"
   ]
  },
  {
   "cell_type": "markdown",
   "metadata": {},
   "source": [
    "# Introduction\n",
    "The field of data science and analytics has experienced significant growth and transformation in recent years, becoming a critical aspect of decision-making and problem-solving in various industries. As more organizations recognize the value of data-driven insights, the demand for skilled data professionals continues to rise. With a wide range of tools, technologies, and learning resources available, navigating the world of data science can be overwhelming for aspiring students.\n",
    "\n",
    "In this project, titled \"Exploring Trends and Insights in Data Science and Analytics: A Comprehensive Analysis,\" we aim to provide a comprehensive guide for students interested in learning data science and analytics. Our analysis focuses on key aspects of the field, including popular programming languages, visualization tools, machine learning frameworks, cloud computing platforms, and more.\n",
    "\n",
    "By analyzing a large dataset collected from professionals in the data science field, we uncover valuable insights that can help guide students in their learning journey. We examine trends, preferences, and recommendations provided by experienced practitioners, allowing us to identify the most prominent and widely used tools, platforms, and learning resources.\n",
    "\n",
    "Our analysis includes an exploration of the top programming languages used in data science and analytics, highlighting the advantages and features of each language. We delve into the realm of visualization tools, providing an overview of the most popular choices and their applications in data analysis and presentation. Additionally, we examine the leading machine learning frameworks utilized by professionals, shedding light on their capabilities and functionalities.\n",
    "\n",
    "Furthermore, we explore cloud computing platforms, an essential component of modern data science workflows, and identify the platforms favored by practitioners. This analysis helps students understand the different options available and make informed decisions when it comes to cloud-based data processing and storage.\n",
    "\n",
    "Throughout the project, we emphasize the importance of continuous learning and staying up-to-date with the latest advancements in the field. We provide insights into recommended courses, both free and paid, to support students in their pursuit of knowledge and skill development. Additionally, we include links to popular YouTube channels that offer valuable content related to data science and analytics.\n",
    "\n",
    "By synthesizing and presenting these findings, our goal is to empower students with the knowledge and resources they need to embark on a successful journey in data science and analytics. We believe that by understanding the current landscape and emerging trends, students can make informed decisions about the tools, technologies, and learning paths that best align with their interests and career aspirations."
   ]
  },
  {
   "cell_type": "markdown",
   "metadata": {},
   "source": [
    "### Data Description\n",
    "#### Survey Methodology\n",
    "* The survey received a total of 19,717 usable respondents from 171    countries and territories.\n",
    "* Respondents from countries or territories with less than 50 participants were grouped into a category called \"Other\" for anonymity.\n",
    "* Respondents flagged as \"Spam\" by the survey system were excluded from the dataset.\n",
    "* The majority of respondents were reached through Kaggle channels, including email lists, discussion forums, and social media.\n",
    "* The survey was conducted from October 8th to October 28th, allowing participants to complete it at their convenience within that timeframe.\n",
    "* The median response time for survey participants was approximately 10 minutes.\n",
    "* Not all respondents were asked the same set of questions; the survey used different question segments based on the participants' experience levels.\n",
    "* To ensure respondent privacy, multiple-choice answers were separated into a separate data file from open-ended responses.\n",
    "* The free-form responses were randomized column-wise, meaning that responses on the same row did not necessarily come from the same participant.\n",
    "* The dataset was published in a raw format that maintains anonymity while providing valuable insights into data science, machine learning in various industries, and advice for aspiring data scientists.\n",
    "* We have analyzed 2019 Kaggle Machine Learning and Data Science Survey dataset . The dataset contains responses to an annual survey conducted by Kaggle . You can find raw data here : https://www.kaggle.com/competitions/kaggle-survey-2019/data\n",
    "API For Download - kaggle competitions download -c kaggle-survey-2019\n",
    "\n",
    "* Refer this Documentation link to upload files to your Jupyter Notebook in Jovian :https://jovian-py.readthedocs.io/en/latest/user-guide/attach.html#how-to-attach-files"
   ]
  },
  {
   "cell_type": "code",
   "execution_count": 1,
   "metadata": {},
   "outputs": [],
   "source": [
    "#we will use pandas library to retrieve the data uploaded on Jupyter Notebook at Jovian.com \n",
    "import pandas as pd"
   ]
  },
  {
   "cell_type": "code",
   "execution_count": 2,
   "metadata": {},
   "outputs": [],
   "source": [
    "#The file multiple_choice_resonses.csv contains the responses of the user \n",
    "survey_df = pd.read_csv('multiple_choice_responses.csv')"
   ]
  },
  {
   "cell_type": "markdown",
   "metadata": {},
   "source": [
    "lets verify if the data has been retrieved to the notebook"
   ]
  },
  {
   "cell_type": "code",
   "execution_count": 3,
   "metadata": {},
   "outputs": [
    {
     "data": {
      "text/html": [
       "<div>\n",
       "<style scoped>\n",
       "    .dataframe tbody tr th:only-of-type {\n",
       "        vertical-align: middle;\n",
       "    }\n",
       "\n",
       "    .dataframe tbody tr th {\n",
       "        vertical-align: top;\n",
       "    }\n",
       "\n",
       "    .dataframe thead th {\n",
       "        text-align: right;\n",
       "    }\n",
       "</style>\n",
       "<table border=\"1\" class=\"dataframe\">\n",
       "  <thead>\n",
       "    <tr style=\"text-align: right;\">\n",
       "      <th></th>\n",
       "      <th>TimefromStarttoFinish(seconds)</th>\n",
       "      <th>Q1</th>\n",
       "      <th>Q2</th>\n",
       "      <th>Q2_OTHER_TEXT</th>\n",
       "      <th>Q3</th>\n",
       "      <th>Q4</th>\n",
       "      <th>Q5</th>\n",
       "      <th>Q5_OTHER_TEXT</th>\n",
       "      <th>Q6</th>\n",
       "      <th>Q7</th>\n",
       "      <th>...</th>\n",
       "      <th>Q34_Part_4_MicrosoftSQLServer</th>\n",
       "      <th>Q34_Part_5_OracleDatabase</th>\n",
       "      <th>Q34_Part_6_MicrosoftAccess</th>\n",
       "      <th>Q34_Part_7_AWSRelationalDatabaseService</th>\n",
       "      <th>Q34_Part_8_AWSDynamoDB</th>\n",
       "      <th>Q34_Part_9_AzureSQLDatabase</th>\n",
       "      <th>Q34_Part_10_GoogleCloudSQL</th>\n",
       "      <th>Q34_Part_11_None</th>\n",
       "      <th>Q34_Part_12_Other</th>\n",
       "      <th>Q34_OTHER_TEXT</th>\n",
       "    </tr>\n",
       "  </thead>\n",
       "  <tbody>\n",
       "    <tr>\n",
       "      <th>0</th>\n",
       "      <td>NaN</td>\n",
       "      <td>NaN</td>\n",
       "      <td>NaN</td>\n",
       "      <td>NaN</td>\n",
       "      <td>NaN</td>\n",
       "      <td>NaN</td>\n",
       "      <td>NaN</td>\n",
       "      <td>NaN</td>\n",
       "      <td>NaN</td>\n",
       "      <td>NaN</td>\n",
       "      <td>...</td>\n",
       "      <td>NaN</td>\n",
       "      <td>NaN</td>\n",
       "      <td>NaN</td>\n",
       "      <td>NaN</td>\n",
       "      <td>NaN</td>\n",
       "      <td>NaN</td>\n",
       "      <td>NaN</td>\n",
       "      <td>NaN</td>\n",
       "      <td>NaN</td>\n",
       "      <td>NaN</td>\n",
       "    </tr>\n",
       "    <tr>\n",
       "      <th>1</th>\n",
       "      <td>423.0</td>\n",
       "      <td>40-44</td>\n",
       "      <td>Male</td>\n",
       "      <td>-1.0</td>\n",
       "      <td>India</td>\n",
       "      <td>Professional degree</td>\n",
       "      <td>Software Engineer</td>\n",
       "      <td>-1.0</td>\n",
       "      <td>&gt; 10,000 employees</td>\n",
       "      <td>20+</td>\n",
       "      <td>...</td>\n",
       "      <td>NaN</td>\n",
       "      <td>NaN</td>\n",
       "      <td>NaN</td>\n",
       "      <td>NaN</td>\n",
       "      <td>NaN</td>\n",
       "      <td>NaN</td>\n",
       "      <td>NaN</td>\n",
       "      <td>NaN</td>\n",
       "      <td>NaN</td>\n",
       "      <td>-1.0</td>\n",
       "    </tr>\n",
       "    <tr>\n",
       "      <th>2</th>\n",
       "      <td>83.0</td>\n",
       "      <td>55-59</td>\n",
       "      <td>Female</td>\n",
       "      <td>-1.0</td>\n",
       "      <td>Germany</td>\n",
       "      <td>Professional degree</td>\n",
       "      <td>NaN</td>\n",
       "      <td>-1.0</td>\n",
       "      <td>NaN</td>\n",
       "      <td>NaN</td>\n",
       "      <td>...</td>\n",
       "      <td>NaN</td>\n",
       "      <td>NaN</td>\n",
       "      <td>NaN</td>\n",
       "      <td>NaN</td>\n",
       "      <td>NaN</td>\n",
       "      <td>NaN</td>\n",
       "      <td>NaN</td>\n",
       "      <td>NaN</td>\n",
       "      <td>NaN</td>\n",
       "      <td>-1.0</td>\n",
       "    </tr>\n",
       "    <tr>\n",
       "      <th>3</th>\n",
       "      <td>391.0</td>\n",
       "      <td>40-44</td>\n",
       "      <td>Male</td>\n",
       "      <td>-1.0</td>\n",
       "      <td>Australia</td>\n",
       "      <td>Master’s degree</td>\n",
       "      <td>Other</td>\n",
       "      <td>0.0</td>\n",
       "      <td>&gt; 10,000 employees</td>\n",
       "      <td>20+</td>\n",
       "      <td>...</td>\n",
       "      <td>NaN</td>\n",
       "      <td>NaN</td>\n",
       "      <td>NaN</td>\n",
       "      <td>NaN</td>\n",
       "      <td>NaN</td>\n",
       "      <td>Azure SQL Database</td>\n",
       "      <td>NaN</td>\n",
       "      <td>NaN</td>\n",
       "      <td>NaN</td>\n",
       "      <td>-1.0</td>\n",
       "    </tr>\n",
       "    <tr>\n",
       "      <th>4</th>\n",
       "      <td>392.0</td>\n",
       "      <td>22-24</td>\n",
       "      <td>Male</td>\n",
       "      <td>-1.0</td>\n",
       "      <td>India</td>\n",
       "      <td>Bachelor’s degree</td>\n",
       "      <td>Other</td>\n",
       "      <td>1.0</td>\n",
       "      <td>0-49 employees</td>\n",
       "      <td>0</td>\n",
       "      <td>...</td>\n",
       "      <td>NaN</td>\n",
       "      <td>NaN</td>\n",
       "      <td>NaN</td>\n",
       "      <td>NaN</td>\n",
       "      <td>NaN</td>\n",
       "      <td>NaN</td>\n",
       "      <td>NaN</td>\n",
       "      <td>NaN</td>\n",
       "      <td>NaN</td>\n",
       "      <td>-1.0</td>\n",
       "    </tr>\n",
       "    <tr>\n",
       "      <th>...</th>\n",
       "      <td>...</td>\n",
       "      <td>...</td>\n",
       "      <td>...</td>\n",
       "      <td>...</td>\n",
       "      <td>...</td>\n",
       "      <td>...</td>\n",
       "      <td>...</td>\n",
       "      <td>...</td>\n",
       "      <td>...</td>\n",
       "      <td>...</td>\n",
       "      <td>...</td>\n",
       "      <td>...</td>\n",
       "      <td>...</td>\n",
       "      <td>...</td>\n",
       "      <td>...</td>\n",
       "      <td>...</td>\n",
       "      <td>...</td>\n",
       "      <td>...</td>\n",
       "      <td>...</td>\n",
       "      <td>...</td>\n",
       "      <td>...</td>\n",
       "    </tr>\n",
       "    <tr>\n",
       "      <th>19712</th>\n",
       "      <td>84.0</td>\n",
       "      <td>50-54</td>\n",
       "      <td>Male</td>\n",
       "      <td>-1.0</td>\n",
       "      <td>Japan</td>\n",
       "      <td>NaN</td>\n",
       "      <td>NaN</td>\n",
       "      <td>-1.0</td>\n",
       "      <td>NaN</td>\n",
       "      <td>NaN</td>\n",
       "      <td>...</td>\n",
       "      <td>NaN</td>\n",
       "      <td>NaN</td>\n",
       "      <td>NaN</td>\n",
       "      <td>NaN</td>\n",
       "      <td>NaN</td>\n",
       "      <td>NaN</td>\n",
       "      <td>NaN</td>\n",
       "      <td>NaN</td>\n",
       "      <td>NaN</td>\n",
       "      <td>-1.0</td>\n",
       "    </tr>\n",
       "    <tr>\n",
       "      <th>19713</th>\n",
       "      <td>473.0</td>\n",
       "      <td>18-21</td>\n",
       "      <td>Male</td>\n",
       "      <td>-1.0</td>\n",
       "      <td>India</td>\n",
       "      <td>Bachelor’s degree</td>\n",
       "      <td>Other</td>\n",
       "      <td>-1.0</td>\n",
       "      <td>250-999 employees</td>\n",
       "      <td>4-Mar</td>\n",
       "      <td>...</td>\n",
       "      <td>NaN</td>\n",
       "      <td>NaN</td>\n",
       "      <td>NaN</td>\n",
       "      <td>NaN</td>\n",
       "      <td>NaN</td>\n",
       "      <td>NaN</td>\n",
       "      <td>NaN</td>\n",
       "      <td>NaN</td>\n",
       "      <td>NaN</td>\n",
       "      <td>-1.0</td>\n",
       "    </tr>\n",
       "    <tr>\n",
       "      <th>19714</th>\n",
       "      <td>9195.0</td>\n",
       "      <td>35-39</td>\n",
       "      <td>Male</td>\n",
       "      <td>-1.0</td>\n",
       "      <td>India</td>\n",
       "      <td>Master’s degree</td>\n",
       "      <td>Student</td>\n",
       "      <td>-1.0</td>\n",
       "      <td>NaN</td>\n",
       "      <td>NaN</td>\n",
       "      <td>...</td>\n",
       "      <td>NaN</td>\n",
       "      <td>NaN</td>\n",
       "      <td>NaN</td>\n",
       "      <td>NaN</td>\n",
       "      <td>NaN</td>\n",
       "      <td>NaN</td>\n",
       "      <td>NaN</td>\n",
       "      <td>NaN</td>\n",
       "      <td>NaN</td>\n",
       "      <td>-1.0</td>\n",
       "    </tr>\n",
       "    <tr>\n",
       "      <th>19715</th>\n",
       "      <td>176.0</td>\n",
       "      <td>25-29</td>\n",
       "      <td>Male</td>\n",
       "      <td>-1.0</td>\n",
       "      <td>India</td>\n",
       "      <td>Master’s degree</td>\n",
       "      <td>Statistician</td>\n",
       "      <td>-1.0</td>\n",
       "      <td>50-249 employees</td>\n",
       "      <td>15-19</td>\n",
       "      <td>...</td>\n",
       "      <td>NaN</td>\n",
       "      <td>NaN</td>\n",
       "      <td>NaN</td>\n",
       "      <td>NaN</td>\n",
       "      <td>NaN</td>\n",
       "      <td>NaN</td>\n",
       "      <td>NaN</td>\n",
       "      <td>NaN</td>\n",
       "      <td>NaN</td>\n",
       "      <td>-1.0</td>\n",
       "    </tr>\n",
       "    <tr>\n",
       "      <th>19716</th>\n",
       "      <td>567.0</td>\n",
       "      <td>50-54</td>\n",
       "      <td>Male</td>\n",
       "      <td>-1.0</td>\n",
       "      <td>France</td>\n",
       "      <td>Bachelor’s degree</td>\n",
       "      <td>Software Engineer</td>\n",
       "      <td>-1.0</td>\n",
       "      <td>&gt; 10,000 employees</td>\n",
       "      <td>20+</td>\n",
       "      <td>...</td>\n",
       "      <td>NaN</td>\n",
       "      <td>NaN</td>\n",
       "      <td>NaN</td>\n",
       "      <td>NaN</td>\n",
       "      <td>NaN</td>\n",
       "      <td>NaN</td>\n",
       "      <td>NaN</td>\n",
       "      <td>NaN</td>\n",
       "      <td>NaN</td>\n",
       "      <td>-1.0</td>\n",
       "    </tr>\n",
       "  </tbody>\n",
       "</table>\n",
       "<p>19717 rows × 246 columns</p>\n",
       "</div>"
      ],
      "text/plain": [
       "       TimefromStarttoFinish(seconds)     Q1      Q2  Q2_OTHER_TEXT  \\\n",
       "0                                 NaN    NaN     NaN            NaN   \n",
       "1                               423.0  40-44    Male           -1.0   \n",
       "2                                83.0  55-59  Female           -1.0   \n",
       "3                               391.0  40-44    Male           -1.0   \n",
       "4                               392.0  22-24    Male           -1.0   \n",
       "...                               ...    ...     ...            ...   \n",
       "19712                            84.0  50-54    Male           -1.0   \n",
       "19713                           473.0  18-21    Male           -1.0   \n",
       "19714                          9195.0  35-39    Male           -1.0   \n",
       "19715                           176.0  25-29    Male           -1.0   \n",
       "19716                           567.0  50-54    Male           -1.0   \n",
       "\n",
       "              Q3                   Q4                 Q5  Q5_OTHER_TEXT  \\\n",
       "0            NaN                  NaN                NaN            NaN   \n",
       "1          India  Professional degree  Software Engineer           -1.0   \n",
       "2        Germany  Professional degree                NaN           -1.0   \n",
       "3      Australia      Master’s degree              Other            0.0   \n",
       "4          India    Bachelor’s degree              Other            1.0   \n",
       "...          ...                  ...                ...            ...   \n",
       "19712      Japan                  NaN                NaN           -1.0   \n",
       "19713      India    Bachelor’s degree              Other           -1.0   \n",
       "19714      India      Master’s degree            Student           -1.0   \n",
       "19715      India      Master’s degree       Statistician           -1.0   \n",
       "19716     France    Bachelor’s degree  Software Engineer           -1.0   \n",
       "\n",
       "                       Q6     Q7  ... Q34_Part_4_MicrosoftSQLServer  \\\n",
       "0                     NaN    NaN  ...                           NaN   \n",
       "1      > 10,000 employees    20+  ...                           NaN   \n",
       "2                     NaN    NaN  ...                           NaN   \n",
       "3      > 10,000 employees    20+  ...                           NaN   \n",
       "4          0-49 employees      0  ...                           NaN   \n",
       "...                   ...    ...  ...                           ...   \n",
       "19712                 NaN    NaN  ...                           NaN   \n",
       "19713   250-999 employees  4-Mar  ...                           NaN   \n",
       "19714                 NaN    NaN  ...                           NaN   \n",
       "19715    50-249 employees  15-19  ...                           NaN   \n",
       "19716  > 10,000 employees    20+  ...                           NaN   \n",
       "\n",
       "      Q34_Part_5_OracleDatabase Q34_Part_6_MicrosoftAccess  \\\n",
       "0                           NaN                        NaN   \n",
       "1                           NaN                        NaN   \n",
       "2                           NaN                        NaN   \n",
       "3                           NaN                        NaN   \n",
       "4                           NaN                        NaN   \n",
       "...                         ...                        ...   \n",
       "19712                       NaN                        NaN   \n",
       "19713                       NaN                        NaN   \n",
       "19714                       NaN                        NaN   \n",
       "19715                       NaN                        NaN   \n",
       "19716                       NaN                        NaN   \n",
       "\n",
       "      Q34_Part_7_AWSRelationalDatabaseService Q34_Part_8_AWSDynamoDB  \\\n",
       "0                                         NaN                    NaN   \n",
       "1                                         NaN                    NaN   \n",
       "2                                         NaN                    NaN   \n",
       "3                                         NaN                    NaN   \n",
       "4                                         NaN                    NaN   \n",
       "...                                       ...                    ...   \n",
       "19712                                     NaN                    NaN   \n",
       "19713                                     NaN                    NaN   \n",
       "19714                                     NaN                    NaN   \n",
       "19715                                     NaN                    NaN   \n",
       "19716                                     NaN                    NaN   \n",
       "\n",
       "      Q34_Part_9_AzureSQLDatabase Q34_Part_10_GoogleCloudSQL Q34_Part_11_None  \\\n",
       "0                             NaN                        NaN              NaN   \n",
       "1                             NaN                        NaN              NaN   \n",
       "2                             NaN                        NaN              NaN   \n",
       "3              Azure SQL Database                        NaN              NaN   \n",
       "4                             NaN                        NaN              NaN   \n",
       "...                           ...                        ...              ...   \n",
       "19712                         NaN                        NaN              NaN   \n",
       "19713                         NaN                        NaN              NaN   \n",
       "19714                         NaN                        NaN              NaN   \n",
       "19715                         NaN                        NaN              NaN   \n",
       "19716                         NaN                        NaN              NaN   \n",
       "\n",
       "      Q34_Part_12_Other  Q34_OTHER_TEXT  \n",
       "0                   NaN             NaN  \n",
       "1                   NaN            -1.0  \n",
       "2                   NaN            -1.0  \n",
       "3                   NaN            -1.0  \n",
       "4                   NaN            -1.0  \n",
       "...                 ...             ...  \n",
       "19712               NaN            -1.0  \n",
       "19713               NaN            -1.0  \n",
       "19714               NaN            -1.0  \n",
       "19715               NaN            -1.0  \n",
       "19716               NaN            -1.0  \n",
       "\n",
       "[19717 rows x 246 columns]"
      ]
     },
     "execution_count": 3,
     "metadata": {},
     "output_type": "execute_result"
    }
   ],
   "source": [
    "survey_df"
   ]
  },
  {
   "cell_type": "markdown",
   "metadata": {},
   "source": [
    "The dataset contains over 19717 responses to 34 multiple choice  questions . The responses have been anonymized to remove personally identifiable information, and each respondent has been assigned a randomized respondent ID.\n",
    "\n",
    "Let's view the list of columns in the data frame. "
   ]
  },
  {
   "cell_type": "code",
   "execution_count": 4,
   "metadata": {},
   "outputs": [
    {
     "data": {
      "text/plain": [
       "Index(['TimefromStarttoFinish(seconds)', 'Q1', 'Q2', 'Q2_OTHER_TEXT', 'Q3',\n",
       "       'Q4', 'Q5', 'Q5_OTHER_TEXT', 'Q6', 'Q7',\n",
       "       ...\n",
       "       'Q34_Part_4_MicrosoftSQLServer', 'Q34_Part_5_OracleDatabase',\n",
       "       'Q34_Part_6_MicrosoftAccess', 'Q34_Part_7_AWSRelationalDatabaseService',\n",
       "       'Q34_Part_8_AWSDynamoDB', 'Q34_Part_9_AzureSQLDatabase',\n",
       "       'Q34_Part_10_GoogleCloudSQL', 'Q34_Part_11_None', 'Q34_Part_12_Other',\n",
       "       'Q34_OTHER_TEXT'],\n",
       "      dtype='object', length=246)"
      ]
     },
     "execution_count": 4,
     "metadata": {},
     "output_type": "execute_result"
    }
   ],
   "source": [
    "survey_df.columns"
   ]
  },
  {
   "cell_type": "markdown",
   "metadata": {},
   "source": [
    "It appears that shortcodes for questions have been used as column names. \n",
    "\n",
    "We can refer to the schema_source file and questions_only_edited file to see the full text of each question. The schema file contains only the information about excluded data from the main data source . "
   ]
  },
  {
   "cell_type": "code",
   "execution_count": 5,
   "metadata": {},
   "outputs": [],
   "source": [
    "questions_df = pd.read_csv('questions_only_edited.csv')"
   ]
  },
  {
   "cell_type": "code",
   "execution_count": 6,
   "metadata": {
    "scrolled": true
   },
   "outputs": [
    {
     "data": {
      "text/html": [
       "<div>\n",
       "<style scoped>\n",
       "    .dataframe tbody tr th:only-of-type {\n",
       "        vertical-align: middle;\n",
       "    }\n",
       "\n",
       "    .dataframe tbody tr th {\n",
       "        vertical-align: top;\n",
       "    }\n",
       "\n",
       "    .dataframe thead th {\n",
       "        text-align: right;\n",
       "    }\n",
       "</style>\n",
       "<table border=\"1\" class=\"dataframe\">\n",
       "  <thead>\n",
       "    <tr style=\"text-align: right;\">\n",
       "      <th></th>\n",
       "      <th>Time from Start to Finish (seconds)</th>\n",
       "      <th>Q1</th>\n",
       "      <th>Q2</th>\n",
       "      <th>Q3</th>\n",
       "      <th>Q4</th>\n",
       "      <th>Q5</th>\n",
       "      <th>Q6</th>\n",
       "      <th>Q7</th>\n",
       "      <th>Q8</th>\n",
       "      <th>Q9</th>\n",
       "      <th>...</th>\n",
       "      <th>Q25</th>\n",
       "      <th>Q26</th>\n",
       "      <th>Q27</th>\n",
       "      <th>Q28</th>\n",
       "      <th>Q29</th>\n",
       "      <th>Q30</th>\n",
       "      <th>Q31</th>\n",
       "      <th>Q32</th>\n",
       "      <th>Q33</th>\n",
       "      <th>Q34</th>\n",
       "    </tr>\n",
       "  </thead>\n",
       "  <tbody>\n",
       "    <tr>\n",
       "      <th>0</th>\n",
       "      <td>Duration (in seconds)</td>\n",
       "      <td>What is your age (# years)?</td>\n",
       "      <td>What is your gender? - Selected Choice</td>\n",
       "      <td>In which country do you currently reside?</td>\n",
       "      <td>What is the highest level of formal education ...</td>\n",
       "      <td>Select the title most similar to your current ...</td>\n",
       "      <td>What is the size of the company where you are ...</td>\n",
       "      <td>Approximately how many individuals are respons...</td>\n",
       "      <td>Does your current employer incorporate machine...</td>\n",
       "      <td>Select any activities that make up an importan...</td>\n",
       "      <td>...</td>\n",
       "      <td>Which categories of ML tools do you use on a r...</td>\n",
       "      <td>Which categories of computer vision methods do...</td>\n",
       "      <td>Which of the following natural language proces...</td>\n",
       "      <td>Which of the following machine learning framew...</td>\n",
       "      <td>Which of the following cloud computing platfor...</td>\n",
       "      <td>Which specific cloud computing products do you...</td>\n",
       "      <td>Which specific big data / analytics products d...</td>\n",
       "      <td>Which of the following machine learning produc...</td>\n",
       "      <td>Which automated machine learning tools (or par...</td>\n",
       "      <td>Which of the following relational database pro...</td>\n",
       "    </tr>\n",
       "  </tbody>\n",
       "</table>\n",
       "<p>1 rows × 35 columns</p>\n",
       "</div>"
      ],
      "text/plain": [
       "  Time from Start to Finish (seconds)                           Q1  \\\n",
       "0               Duration (in seconds)  What is your age (# years)?   \n",
       "\n",
       "                                       Q2  \\\n",
       "0  What is your gender? - Selected Choice   \n",
       "\n",
       "                                          Q3  \\\n",
       "0  In which country do you currently reside?   \n",
       "\n",
       "                                                  Q4  \\\n",
       "0  What is the highest level of formal education ...   \n",
       "\n",
       "                                                  Q5  \\\n",
       "0  Select the title most similar to your current ...   \n",
       "\n",
       "                                                  Q6  \\\n",
       "0  What is the size of the company where you are ...   \n",
       "\n",
       "                                                  Q7  \\\n",
       "0  Approximately how many individuals are respons...   \n",
       "\n",
       "                                                  Q8  \\\n",
       "0  Does your current employer incorporate machine...   \n",
       "\n",
       "                                                  Q9  ...  \\\n",
       "0  Select any activities that make up an importan...  ...   \n",
       "\n",
       "                                                 Q25  \\\n",
       "0  Which categories of ML tools do you use on a r...   \n",
       "\n",
       "                                                 Q26  \\\n",
       "0  Which categories of computer vision methods do...   \n",
       "\n",
       "                                                 Q27  \\\n",
       "0  Which of the following natural language proces...   \n",
       "\n",
       "                                                 Q28  \\\n",
       "0  Which of the following machine learning framew...   \n",
       "\n",
       "                                                 Q29  \\\n",
       "0  Which of the following cloud computing platfor...   \n",
       "\n",
       "                                                 Q30  \\\n",
       "0  Which specific cloud computing products do you...   \n",
       "\n",
       "                                                 Q31  \\\n",
       "0  Which specific big data / analytics products d...   \n",
       "\n",
       "                                                 Q32  \\\n",
       "0  Which of the following machine learning produc...   \n",
       "\n",
       "                                                 Q33  \\\n",
       "0  Which automated machine learning tools (or par...   \n",
       "\n",
       "                                                 Q34  \n",
       "0  Which of the following relational database pro...  \n",
       "\n",
       "[1 rows x 35 columns]"
      ]
     },
     "execution_count": 6,
     "metadata": {},
     "output_type": "execute_result"
    }
   ],
   "source": [
    "questions_df"
   ]
  },
  {
   "cell_type": "markdown",
   "metadata": {},
   "source": [
    "Questions_only_edited.csv contains \n",
    "the questions related to header (question numbers i.e Q1,Q2...)\n",
    "row of the multiple_choice_responses.csv file"
   ]
  },
  {
   "cell_type": "code",
   "execution_count": 7,
   "metadata": {},
   "outputs": [],
   "source": [
    "schema_df =pd.read_csv('survey_schema.csv')"
   ]
  },
  {
   "cell_type": "code",
   "execution_count": 8,
   "metadata": {},
   "outputs": [
    {
     "data": {
      "text/html": [
       "<div>\n",
       "<style scoped>\n",
       "    .dataframe tbody tr th:only-of-type {\n",
       "        vertical-align: middle;\n",
       "    }\n",
       "\n",
       "    .dataframe tbody tr th {\n",
       "        vertical-align: top;\n",
       "    }\n",
       "\n",
       "    .dataframe thead th {\n",
       "        text-align: right;\n",
       "    }\n",
       "</style>\n",
       "<table border=\"1\" class=\"dataframe\">\n",
       "  <thead>\n",
       "    <tr style=\"text-align: right;\">\n",
       "      <th></th>\n",
       "      <th>2019 Kaggle Machine Learning and Data Science Survey</th>\n",
       "      <th>Q1</th>\n",
       "      <th>Q10</th>\n",
       "      <th>Q11</th>\n",
       "      <th>Q12</th>\n",
       "      <th>Q13</th>\n",
       "      <th>Q14</th>\n",
       "      <th>Q15</th>\n",
       "      <th>Q16</th>\n",
       "      <th>Q17</th>\n",
       "      <th>...</th>\n",
       "      <th>Q31</th>\n",
       "      <th>Q32</th>\n",
       "      <th>Q33</th>\n",
       "      <th>Q34</th>\n",
       "      <th>Q4</th>\n",
       "      <th>Q5</th>\n",
       "      <th>Q6</th>\n",
       "      <th>Q7</th>\n",
       "      <th>Q8</th>\n",
       "      <th>Q9</th>\n",
       "    </tr>\n",
       "  </thead>\n",
       "  <tbody>\n",
       "    <tr>\n",
       "      <th>0</th>\n",
       "      <td>Question:</td>\n",
       "      <td>What is your age (# years)?</td>\n",
       "      <td>What is your current yearly compensation (appr...</td>\n",
       "      <td>Approximately how much money have you spent on...</td>\n",
       "      <td>Who/what are your favorite media sources that ...</td>\n",
       "      <td>On which platforms have you begun or completed...</td>\n",
       "      <td>What is the primary tool that you use at work ...</td>\n",
       "      <td>How long have you been writing code to analyze...</td>\n",
       "      <td>Which of the following integrated development ...</td>\n",
       "      <td>Which of the following hosted notebook product...</td>\n",
       "      <td>...</td>\n",
       "      <td>Which specific big data / analytics products d...</td>\n",
       "      <td>Which of the following machine learning produc...</td>\n",
       "      <td>Which automated machine learning tools (or par...</td>\n",
       "      <td>Which of the following relational database pro...</td>\n",
       "      <td>What is the highest level of formal education ...</td>\n",
       "      <td>Select the title most similar to your current ...</td>\n",
       "      <td>What is the size of the company where you are ...</td>\n",
       "      <td>Approximately how many individuals are respons...</td>\n",
       "      <td>Does your current employer incorporate machine...</td>\n",
       "      <td>Select any activities that make up an importan...</td>\n",
       "    </tr>\n",
       "    <tr>\n",
       "      <th>1</th>\n",
       "      <td># of Respondents:</td>\n",
       "      <td>19717</td>\n",
       "      <td>12497</td>\n",
       "      <td>12250</td>\n",
       "      <td>16781</td>\n",
       "      <td>16569</td>\n",
       "      <td>15690</td>\n",
       "      <td>15627</td>\n",
       "      <td>14627</td>\n",
       "      <td>14443</td>\n",
       "      <td>...</td>\n",
       "      <td>7078</td>\n",
       "      <td>7050</td>\n",
       "      <td>7015</td>\n",
       "      <td>6994</td>\n",
       "      <td>19323</td>\n",
       "      <td>19107</td>\n",
       "      <td>14002</td>\n",
       "      <td>13623</td>\n",
       "      <td>13227</td>\n",
       "      <td>9226</td>\n",
       "    </tr>\n",
       "    <tr>\n",
       "      <th>2</th>\n",
       "      <td>Who was excluded? (0 = not excluded; 1 = exclu...</td>\n",
       "      <td>0</td>\n",
       "      <td>0</td>\n",
       "      <td>0</td>\n",
       "      <td>0</td>\n",
       "      <td>0</td>\n",
       "      <td>0</td>\n",
       "      <td>0</td>\n",
       "      <td>0</td>\n",
       "      <td>0</td>\n",
       "      <td>...</td>\n",
       "      <td>0</td>\n",
       "      <td>0</td>\n",
       "      <td>0</td>\n",
       "      <td>0</td>\n",
       "      <td>0</td>\n",
       "      <td>0</td>\n",
       "      <td>0</td>\n",
       "      <td>0</td>\n",
       "      <td>0</td>\n",
       "      <td>0</td>\n",
       "    </tr>\n",
       "    <tr>\n",
       "      <th>3</th>\n",
       "      <td>If What is your age (# years)? 0-17 Is Selected</td>\n",
       "      <td>0</td>\n",
       "      <td>1</td>\n",
       "      <td>1</td>\n",
       "      <td>1</td>\n",
       "      <td>1</td>\n",
       "      <td>1</td>\n",
       "      <td>1</td>\n",
       "      <td>1</td>\n",
       "      <td>1</td>\n",
       "      <td>...</td>\n",
       "      <td>1</td>\n",
       "      <td>1</td>\n",
       "      <td>1</td>\n",
       "      <td>1</td>\n",
       "      <td>1</td>\n",
       "      <td>1</td>\n",
       "      <td>1</td>\n",
       "      <td>1</td>\n",
       "      <td>1</td>\n",
       "      <td>1</td>\n",
       "    </tr>\n",
       "    <tr>\n",
       "      <th>4</th>\n",
       "      <td>If Select the title most similar to your curre...</td>\n",
       "      <td>0</td>\n",
       "      <td>1</td>\n",
       "      <td>1</td>\n",
       "      <td>0</td>\n",
       "      <td>0</td>\n",
       "      <td>0</td>\n",
       "      <td>0</td>\n",
       "      <td>0</td>\n",
       "      <td>0</td>\n",
       "      <td>...</td>\n",
       "      <td>0</td>\n",
       "      <td>0</td>\n",
       "      <td>0</td>\n",
       "      <td>0</td>\n",
       "      <td>0</td>\n",
       "      <td>0</td>\n",
       "      <td>1</td>\n",
       "      <td>1</td>\n",
       "      <td>1</td>\n",
       "      <td>1</td>\n",
       "    </tr>\n",
       "    <tr>\n",
       "      <th>5</th>\n",
       "      <td>If How long have you been writing code to anal...</td>\n",
       "      <td>0</td>\n",
       "      <td>0</td>\n",
       "      <td>0</td>\n",
       "      <td>0</td>\n",
       "      <td>0</td>\n",
       "      <td>0</td>\n",
       "      <td>0</td>\n",
       "      <td>1</td>\n",
       "      <td>1</td>\n",
       "      <td>...</td>\n",
       "      <td>1</td>\n",
       "      <td>1</td>\n",
       "      <td>1</td>\n",
       "      <td>1</td>\n",
       "      <td>0</td>\n",
       "      <td>0</td>\n",
       "      <td>0</td>\n",
       "      <td>0</td>\n",
       "      <td>0</td>\n",
       "      <td>0</td>\n",
       "    </tr>\n",
       "    <tr>\n",
       "      <th>6</th>\n",
       "      <td>If Approximately how much money have you spent...</td>\n",
       "      <td>0</td>\n",
       "      <td>0</td>\n",
       "      <td>0</td>\n",
       "      <td>0</td>\n",
       "      <td>0</td>\n",
       "      <td>0</td>\n",
       "      <td>0</td>\n",
       "      <td>0</td>\n",
       "      <td>0</td>\n",
       "      <td>...</td>\n",
       "      <td>1</td>\n",
       "      <td>1</td>\n",
       "      <td>1</td>\n",
       "      <td>1</td>\n",
       "      <td>0</td>\n",
       "      <td>0</td>\n",
       "      <td>0</td>\n",
       "      <td>0</td>\n",
       "      <td>0</td>\n",
       "      <td>0</td>\n",
       "    </tr>\n",
       "    <tr>\n",
       "      <th>7</th>\n",
       "      <td>If Which of the following ML algorithms do you...</td>\n",
       "      <td>0</td>\n",
       "      <td>0</td>\n",
       "      <td>0</td>\n",
       "      <td>0</td>\n",
       "      <td>0</td>\n",
       "      <td>0</td>\n",
       "      <td>0</td>\n",
       "      <td>0</td>\n",
       "      <td>0</td>\n",
       "      <td>...</td>\n",
       "      <td>0</td>\n",
       "      <td>0</td>\n",
       "      <td>0</td>\n",
       "      <td>0</td>\n",
       "      <td>0</td>\n",
       "      <td>0</td>\n",
       "      <td>0</td>\n",
       "      <td>0</td>\n",
       "      <td>0</td>\n",
       "      <td>0</td>\n",
       "    </tr>\n",
       "    <tr>\n",
       "      <th>8</th>\n",
       "      <td>If Which of the following ML algorithms do you...</td>\n",
       "      <td>0</td>\n",
       "      <td>0</td>\n",
       "      <td>0</td>\n",
       "      <td>0</td>\n",
       "      <td>0</td>\n",
       "      <td>0</td>\n",
       "      <td>0</td>\n",
       "      <td>0</td>\n",
       "      <td>0</td>\n",
       "      <td>...</td>\n",
       "      <td>0</td>\n",
       "      <td>0</td>\n",
       "      <td>0</td>\n",
       "      <td>0</td>\n",
       "      <td>0</td>\n",
       "      <td>0</td>\n",
       "      <td>0</td>\n",
       "      <td>0</td>\n",
       "      <td>0</td>\n",
       "      <td>0</td>\n",
       "    </tr>\n",
       "    <tr>\n",
       "      <th>9</th>\n",
       "      <td>If Does your current employer incorporate mach...</td>\n",
       "      <td>0</td>\n",
       "      <td>0</td>\n",
       "      <td>0</td>\n",
       "      <td>0</td>\n",
       "      <td>0</td>\n",
       "      <td>0</td>\n",
       "      <td>0</td>\n",
       "      <td>0</td>\n",
       "      <td>0</td>\n",
       "      <td>...</td>\n",
       "      <td>0</td>\n",
       "      <td>0</td>\n",
       "      <td>0</td>\n",
       "      <td>0</td>\n",
       "      <td>0</td>\n",
       "      <td>0</td>\n",
       "      <td>0</td>\n",
       "      <td>0</td>\n",
       "      <td>0</td>\n",
       "      <td>1</td>\n",
       "    </tr>\n",
       "  </tbody>\n",
       "</table>\n",
       "<p>10 rows × 35 columns</p>\n",
       "</div>"
      ],
      "text/plain": [
       "  2019 Kaggle Machine Learning and Data Science Survey  \\\n",
       "0                                          Question:     \n",
       "1                                  # of Respondents:     \n",
       "2  Who was excluded? (0 = not excluded; 1 = exclu...     \n",
       "3    If What is your age (# years)? 0-17 Is Selected     \n",
       "4  If Select the title most similar to your curre...     \n",
       "5  If How long have you been writing code to anal...     \n",
       "6  If Approximately how much money have you spent...     \n",
       "7  If Which of the following ML algorithms do you...     \n",
       "8  If Which of the following ML algorithms do you...     \n",
       "9  If Does your current employer incorporate mach...     \n",
       "\n",
       "                            Q1  \\\n",
       "0  What is your age (# years)?   \n",
       "1                        19717   \n",
       "2                            0   \n",
       "3                            0   \n",
       "4                            0   \n",
       "5                            0   \n",
       "6                            0   \n",
       "7                            0   \n",
       "8                            0   \n",
       "9                            0   \n",
       "\n",
       "                                                 Q10  \\\n",
       "0  What is your current yearly compensation (appr...   \n",
       "1                                              12497   \n",
       "2                                                  0   \n",
       "3                                                  1   \n",
       "4                                                  1   \n",
       "5                                                  0   \n",
       "6                                                  0   \n",
       "7                                                  0   \n",
       "8                                                  0   \n",
       "9                                                  0   \n",
       "\n",
       "                                                 Q11  \\\n",
       "0  Approximately how much money have you spent on...   \n",
       "1                                              12250   \n",
       "2                                                  0   \n",
       "3                                                  1   \n",
       "4                                                  1   \n",
       "5                                                  0   \n",
       "6                                                  0   \n",
       "7                                                  0   \n",
       "8                                                  0   \n",
       "9                                                  0   \n",
       "\n",
       "                                                 Q12  \\\n",
       "0  Who/what are your favorite media sources that ...   \n",
       "1                                              16781   \n",
       "2                                                  0   \n",
       "3                                                  1   \n",
       "4                                                  0   \n",
       "5                                                  0   \n",
       "6                                                  0   \n",
       "7                                                  0   \n",
       "8                                                  0   \n",
       "9                                                  0   \n",
       "\n",
       "                                                 Q13  \\\n",
       "0  On which platforms have you begun or completed...   \n",
       "1                                              16569   \n",
       "2                                                  0   \n",
       "3                                                  1   \n",
       "4                                                  0   \n",
       "5                                                  0   \n",
       "6                                                  0   \n",
       "7                                                  0   \n",
       "8                                                  0   \n",
       "9                                                  0   \n",
       "\n",
       "                                                 Q14  \\\n",
       "0  What is the primary tool that you use at work ...   \n",
       "1                                              15690   \n",
       "2                                                  0   \n",
       "3                                                  1   \n",
       "4                                                  0   \n",
       "5                                                  0   \n",
       "6                                                  0   \n",
       "7                                                  0   \n",
       "8                                                  0   \n",
       "9                                                  0   \n",
       "\n",
       "                                                 Q15  \\\n",
       "0  How long have you been writing code to analyze...   \n",
       "1                                              15627   \n",
       "2                                                  0   \n",
       "3                                                  1   \n",
       "4                                                  0   \n",
       "5                                                  0   \n",
       "6                                                  0   \n",
       "7                                                  0   \n",
       "8                                                  0   \n",
       "9                                                  0   \n",
       "\n",
       "                                                 Q16  \\\n",
       "0  Which of the following integrated development ...   \n",
       "1                                              14627   \n",
       "2                                                  0   \n",
       "3                                                  1   \n",
       "4                                                  0   \n",
       "5                                                  1   \n",
       "6                                                  0   \n",
       "7                                                  0   \n",
       "8                                                  0   \n",
       "9                                                  0   \n",
       "\n",
       "                                                 Q17  ...  \\\n",
       "0  Which of the following hosted notebook product...  ...   \n",
       "1                                              14443  ...   \n",
       "2                                                  0  ...   \n",
       "3                                                  1  ...   \n",
       "4                                                  0  ...   \n",
       "5                                                  1  ...   \n",
       "6                                                  0  ...   \n",
       "7                                                  0  ...   \n",
       "8                                                  0  ...   \n",
       "9                                                  0  ...   \n",
       "\n",
       "                                                 Q31  \\\n",
       "0  Which specific big data / analytics products d...   \n",
       "1                                               7078   \n",
       "2                                                  0   \n",
       "3                                                  1   \n",
       "4                                                  0   \n",
       "5                                                  1   \n",
       "6                                                  1   \n",
       "7                                                  0   \n",
       "8                                                  0   \n",
       "9                                                  0   \n",
       "\n",
       "                                                 Q32  \\\n",
       "0  Which of the following machine learning produc...   \n",
       "1                                               7050   \n",
       "2                                                  0   \n",
       "3                                                  1   \n",
       "4                                                  0   \n",
       "5                                                  1   \n",
       "6                                                  1   \n",
       "7                                                  0   \n",
       "8                                                  0   \n",
       "9                                                  0   \n",
       "\n",
       "                                                 Q33  \\\n",
       "0  Which automated machine learning tools (or par...   \n",
       "1                                               7015   \n",
       "2                                                  0   \n",
       "3                                                  1   \n",
       "4                                                  0   \n",
       "5                                                  1   \n",
       "6                                                  1   \n",
       "7                                                  0   \n",
       "8                                                  0   \n",
       "9                                                  0   \n",
       "\n",
       "                                                 Q34  \\\n",
       "0  Which of the following relational database pro...   \n",
       "1                                               6994   \n",
       "2                                                  0   \n",
       "3                                                  1   \n",
       "4                                                  0   \n",
       "5                                                  1   \n",
       "6                                                  1   \n",
       "7                                                  0   \n",
       "8                                                  0   \n",
       "9                                                  0   \n",
       "\n",
       "                                                  Q4  \\\n",
       "0  What is the highest level of formal education ...   \n",
       "1                                              19323   \n",
       "2                                                  0   \n",
       "3                                                  1   \n",
       "4                                                  0   \n",
       "5                                                  0   \n",
       "6                                                  0   \n",
       "7                                                  0   \n",
       "8                                                  0   \n",
       "9                                                  0   \n",
       "\n",
       "                                                  Q5  \\\n",
       "0  Select the title most similar to your current ...   \n",
       "1                                              19107   \n",
       "2                                                  0   \n",
       "3                                                  1   \n",
       "4                                                  0   \n",
       "5                                                  0   \n",
       "6                                                  0   \n",
       "7                                                  0   \n",
       "8                                                  0   \n",
       "9                                                  0   \n",
       "\n",
       "                                                  Q6  \\\n",
       "0  What is the size of the company where you are ...   \n",
       "1                                              14002   \n",
       "2                                                  0   \n",
       "3                                                  1   \n",
       "4                                                  1   \n",
       "5                                                  0   \n",
       "6                                                  0   \n",
       "7                                                  0   \n",
       "8                                                  0   \n",
       "9                                                  0   \n",
       "\n",
       "                                                  Q7  \\\n",
       "0  Approximately how many individuals are respons...   \n",
       "1                                              13623   \n",
       "2                                                  0   \n",
       "3                                                  1   \n",
       "4                                                  1   \n",
       "5                                                  0   \n",
       "6                                                  0   \n",
       "7                                                  0   \n",
       "8                                                  0   \n",
       "9                                                  0   \n",
       "\n",
       "                                                  Q8  \\\n",
       "0  Does your current employer incorporate machine...   \n",
       "1                                              13227   \n",
       "2                                                  0   \n",
       "3                                                  1   \n",
       "4                                                  1   \n",
       "5                                                  0   \n",
       "6                                                  0   \n",
       "7                                                  0   \n",
       "8                                                  0   \n",
       "9                                                  0   \n",
       "\n",
       "                                                  Q9  \n",
       "0  Select any activities that make up an importan...  \n",
       "1                                               9226  \n",
       "2                                                  0  \n",
       "3                                                  1  \n",
       "4                                                  1  \n",
       "5                                                  0  \n",
       "6                                                  0  \n",
       "7                                                  0  \n",
       "8                                                  0  \n",
       "9                                                  1  \n",
       "\n",
       "[10 rows x 35 columns]"
      ]
     },
     "execution_count": 8,
     "metadata": {},
     "output_type": "execute_result"
    }
   ],
   "source": [
    "schema_df"
   ]
  },
  {
   "cell_type": "markdown",
   "metadata": {},
   "source": [
    "Saving and uploading notebook on jovian online platform"
   ]
  },
  {
   "cell_type": "code",
   "execution_count": 9,
   "metadata": {},
   "outputs": [
    {
     "data": {
      "application/javascript": [
       "window.require && require([\"base/js/namespace\"],function(Jupyter){Jupyter.notebook.save_checkpoint()})"
      ],
      "text/plain": [
       "<IPython.core.display.Javascript object>"
      ]
     },
     "metadata": {},
     "output_type": "display_data"
    },
    {
     "name": "stdout",
     "output_type": "stream",
     "text": [
      "[jovian] Updating notebook \"skymehra008/python-data-science-job-analysis\" on https://jovian.com\u001b[0m\n",
      "[jovian] Committed successfully! https://jovian.com/skymehra008/python-data-science-job-analysis\u001b[0m\n"
     ]
    },
    {
     "data": {
      "text/plain": [
       "'https://jovian.com/skymehra008/python-data-science-job-analysis'"
      ]
     },
     "execution_count": 9,
     "metadata": {},
     "output_type": "execute_result"
    }
   ],
   "source": [
    "project = 'Python_data_science_Job_Analysis'\n",
    "!pip install jovian --upgrade --quiet\n",
    "import jovian\n",
    "jovian.commit(project=project)"
   ]
  },
  {
   "cell_type": "markdown",
   "metadata": {},
   "source": [
    "## Data Preparation & Cleaning\n",
    "\n",
    "While the survey responses contain a wealth of information, we'll limit our analysis to the following areas:\n",
    "\n",
    "- Demographics of the survey respondents and the global programming community\n",
    "- Distribution of programming skills, experience, and preferences\n",
    "- Employment-related information, preferences, and opinions\n",
    "\n",
    "Let's select a subset of columns with the relevant data for our analysis."
   ]
  },
  {
   "cell_type": "code",
   "execution_count": 10,
   "metadata": {},
   "outputs": [],
   "source": [
    "selected_columns = [\n",
    "    #demographics\n",
    "    'Q1'# age\n",
    "    ,'Q2'# gender\n",
    "    ,'Q3'# country\n",
    "    ,'Q4' #education\n",
    "    ,'Q5' #current job role\n",
    "    ,'Q8' #if company incorporate Machine learning\n",
    "    ,'Q10' #salary\n",
    "    ,'Q13_Part_1_Udacity' #platforms for learning data science\n",
    "    ,'Q13_Part_2_Coursera'\n",
    "    ,'Q13_Part_3_edX'\n",
    "    ,'Q13_Part_4_DataCamp'\n",
    "    ,'Q13_Part_5_DataQuest'\n",
    "    ,'Q13_Part_6_KaggleCourses(i.e.KaggleLearn)'\n",
    "    ,'Q13_Part_7_Fast.ai'\n",
    "    ,'Q13_Part_8_Udemy'\n",
    "    ,'Q13_Part_9_LinkedInLearning'\n",
    "    ,'Q13_Part_10_UniversityCourses(resultinginauniversitydegree)'\n",
    "    ,'Q14' #primary tool used at work orschool for analysis\n",
    "    ,'Q15' #coding_experience_in data_analysis\n",
    "     #programming_language_used_on_regular_bases\n",
    "    ,'Q18_Part_1_Python'\n",
    "    ,'Q18_Part_2_R'\n",
    "    ,'Q18_Part_3_SQL'\n",
    "    ,'Q18_Part_4_C'\n",
    "    ,'Q18_Part_5_C++'\n",
    "    ,'Q18_Part_6_Java'\n",
    "    ,'Q18_Part_7_Javascript'\n",
    "    ,'Q18_Part_8_TypeScript'\n",
    "    ,'Q18_Part_9_Bash'\n",
    "    ,'Q18_Part_10_MATLAB'\n",
    "    ,'Q19' #recommended programming language\n",
    "     #visualization tools in use\n",
    "    ,'Q20_Part_1_Ggplot/ggplot2'\n",
    "    ,'Q20_Part_2_Matplotlib'\n",
    "    ,'Q20_Part_3_Altair'\n",
    "    ,'Q20_Part_4_Shiny'\n",
    "    ,'Q20_Part_5_D3.js'\n",
    "    ,'Q20_Part_6_Plotly/PlotlyExpress'\n",
    "    ,'Q20_Part_7_Bokeh'\n",
    "    ,'Q20_Part_8_Seaborn'\n",
    "    ,'Q20_Part_9_Geoplotlib'\n",
    "    ,'Q20_Part_10_Leaflet/Folium'\n",
    "     #machine learning frameworks\n",
    "    ,'Q28_Part_1_Scikit_learn'\n",
    "    ,'Q28_Part_2_TensorFlow'\n",
    "    ,'Q28_Part_3_Keras'\n",
    "    ,'Q28_Part_4_RandomForest'\n",
    "    ,'Q28_Part_5_Xgboost'\n",
    "    ,'Q28_Part_6_PyTorch'\n",
    "    ,'Q28_Part_7_Caret'\n",
    "    ,'Q28_Part_8_LightGBM'\n",
    "    ,'Q28_Part_9_SparkMLib'\n",
    "    ,'Q28_Part_10_Fast.ai'\n",
    "    #cloud computing platforms\n",
    "    ,'Q29_Part_1_GoogleCloudPlatform(GCP)' \n",
    "    ,'Q29_Part_2_AmazonWebServices(AWS)'\n",
    "    ,'Q29_Part_3_MicrosoftAzure'\n",
    "    ,'Q29_Part_4_IBMCloud'\n",
    "    ,'Q29_Part_5_AlibabaCloud'\n",
    "    ,'Q29_Part_6_SalesforceCloud'\n",
    "    ,'Q29_Part_7_OracleCloud'\n",
    "    ,'Q29_Part_8_SAPCloud'\n",
    "    ,'Q29_Part_9_VMwareCloud'\n",
    "    ,'Q29_Part_10_RedHatCloud'\n",
    "    #cloud computing products\n",
    "    ,'Q30_Part_1_AWSElasticComputeCloud(EC2)' \n",
    "    ,'Q30_Part_2_GoogleComputeEngine(GCE)'\n",
    "    ,'Q30_Part_3_AWSLambda'\n",
    "    ,'Q30_Part_4_AzureVirtualMachines'\n",
    "    ,'Q30_Part_5_GoogleAppEngine'\n",
    "    ,'Q30_Part_6_GoogleCloudFunctions'\n",
    "    ,'Q30_Part_7_AWSElasticBeanstalk'\n",
    "    ,'Q30_Part_8_GoogleKubernetesEngine'\n",
    "    ,'Q30_Part_9_AWSBatch'\n",
    "    ,'Q30_Part_10_AzureContainerService'\n",
    "    #big data anlytics prooducts\n",
    "    ,'Q31_Part_1_GoogleBigQuery' \n",
    "    ,'Q31_Part_2_AWSRedshift'\n",
    "    ,'Q31_Part_3_Databricks'\n",
    "    ,'Q31_Part_4_AWSElasticMapReduce'\n",
    "    ,'Q31_Part_5_Teradata'\n",
    "    ,'Q31_Part_6_MicrosoftAnalysisServices'\n",
    "    ,'Q31_Part_7_GoogleCloudDataflow'\n",
    "    ,'Q31_Part_8_AWSAthena'\n",
    "    ,'Q31_Part_9_AWSKinesis'\n",
    "    ,'Q31_Part_10_GoogleCloudPub/Sub'\n",
    "    #machine learning products\n",
    "    ,'Q32_Part_1_SAS' \n",
    "    ,'Q32_Part_2_Cloudera'\n",
    "    ,'Q32_Part_3_AzureMachineLearningStudio'\n",
    "    ,'Q32_Part_4_GoogleCloudMachineLearningEngine'\n",
    "    ,'Q32_Part_5_GoogleCloudVision'\n",
    "    ,'Q32_Part_6_GoogleCloudSpeech_to_Text'\n",
    "    ,'Q32_Part_7_GoogleCloudNaturalLanguage'\n",
    "    ,'Q32_Part_8_RapidMiner'\n",
    "    ,'Q32_Part_9_GoogleCloudTranslation'\n",
    "    ,'Q32_Part_10_AmazonSageMaker'\n",
    "    #automatre ML tools\n",
    "    ,'Q33_Part_1_GoogleAutoML' \n",
    "    ,'Q33_Part_2_H20DriverlessAI'\n",
    "    ,'Q33_Part_3_DatabricksAutoML'\n",
    "    ,'Q33_Part_4_DataRobotAutoML'\n",
    "    ,'Q33_Part_5_Tpot'\n",
    "    ,'Q33_Part_6_Auto_Keras'\n",
    "    ,'Q33_Part_7_Auto_Sklearn'\n",
    "    ,'Q33_Part_8_Auto_ml'\n",
    "    ,'Q33_Part_9_Xcessiv'\n",
    "    ,'Q33_Part_10_MLbox'\n",
    "    #rdbms products\n",
    "    ,'Q34_Part_1_MySQL' \n",
    "    ,'Q34_Part_2_PostgresSQL'\n",
    "    ,'Q34_Part_3_SQLite'\n",
    "    ,'Q34_Part_4_MicrosoftSQLServer'\n",
    "    ,'Q34_Part_5_OracleDatabase'\n",
    "    ,'Q34_Part_6_MicrosoftAccess'\n",
    "    ,'Q34_Part_7_AWSRelationalDatabaseService'\n",
    "    ,'Q34_Part_8_AWSDynamoDB'\n",
    "    ,'Q34_Part_9_AzureSQLDatabase'\n",
    "    ,'Q34_Part_10_GoogleCloudSQL'\n",
    "   \n",
    "]"
   ]
  },
  {
   "cell_type": "code",
   "execution_count": 11,
   "metadata": {},
   "outputs": [
    {
     "data": {
      "text/plain": [
       "110"
      ]
     },
     "execution_count": 11,
     "metadata": {},
     "output_type": "execute_result"
    }
   ],
   "source": [
    "len(selected_columns)"
   ]
  },
  {
   "cell_type": "markdown",
   "metadata": {},
   "source": [
    "Let's extract a copy of the data from these columns into a new data frame `new_survey_df `. We can continue to modify further without affecting the original data frame."
   ]
  },
  {
   "cell_type": "code",
   "execution_count": 12,
   "metadata": {},
   "outputs": [],
   "source": [
    "new_survey_df = survey_df[selected_columns].copy()"
   ]
  },
  {
   "cell_type": "markdown",
   "metadata": {},
   "source": [
    "Let's view some basic information about the data frame."
   ]
  },
  {
   "cell_type": "code",
   "execution_count": 13,
   "metadata": {
    "scrolled": false
   },
   "outputs": [
    {
     "name": "stdout",
     "output_type": "stream",
     "text": [
      "<class 'pandas.core.frame.DataFrame'>\n",
      "RangeIndex: 19717 entries, 0 to 19716\n",
      "Columns: 110 entries, Q1 to Q34_Part_10_GoogleCloudSQL\n",
      "dtypes: object(110)\n",
      "memory usage: 16.5+ MB\n"
     ]
    }
   ],
   "source": [
    "new_survey_df.info()"
   ]
  },
  {
   "cell_type": "markdown",
   "metadata": {},
   "source": [
    "All columns have the data type `object`, either because they contain values of different types or contain empty values (`NaN`). It appears that every column contains some empty values since the Non-Null count for every column is lower than the total number of rows (19717). We'll need to deal with empty values and manually adjust the data type for each column on a case-by-case basis. "
   ]
  },
  {
   "cell_type": "code",
   "execution_count": 14,
   "metadata": {},
   "outputs": [
    {
     "data": {
      "application/javascript": [
       "window.require && require([\"base/js/namespace\"],function(Jupyter){Jupyter.notebook.save_checkpoint()})"
      ],
      "text/plain": [
       "<IPython.core.display.Javascript object>"
      ]
     },
     "metadata": {},
     "output_type": "display_data"
    },
    {
     "name": "stdout",
     "output_type": "stream",
     "text": [
      "[jovian] Updating notebook \"skymehra008/python-data-science-job-analysis\" on https://jovian.com\u001b[0m\n",
      "[jovian] Committed successfully! https://jovian.com/skymehra008/python-data-science-job-analysis\u001b[0m\n"
     ]
    },
    {
     "data": {
      "text/plain": [
       "'https://jovian.com/skymehra008/python-data-science-job-analysis'"
      ]
     },
     "execution_count": 14,
     "metadata": {},
     "output_type": "execute_result"
    }
   ],
   "source": [
    "import jovian\n",
    "jovian.commit()"
   ]
  },
  {
   "cell_type": "markdown",
   "metadata": {},
   "source": [
    "lets transform the age= ' Q1 ' column first as it contains different objects and we only need numeric values and also take average of the ranges provided by the user"
   ]
  },
  {
   "cell_type": "code",
   "execution_count": 15,
   "metadata": {},
   "outputs": [],
   "source": [
    "new_survey_df['Avg_Age'] = new_survey_df['Q1'].apply(lambda x: -1 if pd.isna(x) or not isinstance(x, str) or '-' not in x else round(sum(map(int, x.split('-')))/2))\n"
   ]
  },
  {
   "cell_type": "markdown",
   "metadata": {},
   "source": [
    "Then we convert the values of experience = 'Q15' in coding \n",
    "to numeric values by performimg various conversions "
   ]
  },
  {
   "cell_type": "code",
   "execution_count": 16,
   "metadata": {},
   "outputs": [],
   "source": [
    "import numpy as np\n",
    "\n",
    "new_survey_df['YearsCode'] = new_survey_df['Q15'].str.replace(r'[^0-9\\-+]', '', regex=True)\n",
    "new_survey_df['YearsCode'] = new_survey_df['YearsCode'].str.replace(r'[\\-+].*', '', regex=True)\n",
    "new_survey_df['YearsCode'] = new_survey_df['YearsCode'].replace('20+', 20)\n",
    "new_survey_df['YearsCode'] = pd.to_numeric(new_survey_df['YearsCode'], errors='coerce')\n",
    "\n",
    "new_survey_df['Avg_YearsCode'] = new_survey_df['YearsCode'].apply(lambda x: round(x) if pd.notnull(x) else np.nan)"
   ]
  },
  {
   "cell_type": "markdown",
   "metadata": {},
   "source": [
    "Python: The official Python documentation provides a detailed explanation of regex syntax and usage in Python. You can find it at: https://docs.python.org/3/library/re.html"
   ]
  },
  {
   "cell_type": "markdown",
   "metadata": {},
   "source": [
    "Let's now view some basic statistics about numeric columns."
   ]
  },
  {
   "cell_type": "code",
   "execution_count": 17,
   "metadata": {
    "scrolled": false
   },
   "outputs": [
    {
     "data": {
      "text/html": [
       "<div>\n",
       "<style scoped>\n",
       "    .dataframe tbody tr th:only-of-type {\n",
       "        vertical-align: middle;\n",
       "    }\n",
       "\n",
       "    .dataframe tbody tr th {\n",
       "        vertical-align: top;\n",
       "    }\n",
       "\n",
       "    .dataframe thead th {\n",
       "        text-align: right;\n",
       "    }\n",
       "</style>\n",
       "<table border=\"1\" class=\"dataframe\">\n",
       "  <thead>\n",
       "    <tr style=\"text-align: right;\">\n",
       "      <th></th>\n",
       "      <th>Avg_Age</th>\n",
       "      <th>YearsCode</th>\n",
       "      <th>Avg_YearsCode</th>\n",
       "    </tr>\n",
       "  </thead>\n",
       "  <tbody>\n",
       "    <tr>\n",
       "      <th>count</th>\n",
       "      <td>19717.000000</td>\n",
       "      <td>14761.000000</td>\n",
       "      <td>14761.000000</td>\n",
       "    </tr>\n",
       "    <tr>\n",
       "      <th>mean</th>\n",
       "      <td>31.296952</td>\n",
       "      <td>3.345844</td>\n",
       "      <td>3.345844</td>\n",
       "    </tr>\n",
       "    <tr>\n",
       "      <th>std</th>\n",
       "      <td>10.468272</td>\n",
       "      <td>4.156520</td>\n",
       "      <td>4.156520</td>\n",
       "    </tr>\n",
       "    <tr>\n",
       "      <th>min</th>\n",
       "      <td>-1.000000</td>\n",
       "      <td>1.000000</td>\n",
       "      <td>1.000000</td>\n",
       "    </tr>\n",
       "    <tr>\n",
       "      <th>25%</th>\n",
       "      <td>23.000000</td>\n",
       "      <td>1.000000</td>\n",
       "      <td>1.000000</td>\n",
       "    </tr>\n",
       "    <tr>\n",
       "      <th>50%</th>\n",
       "      <td>27.000000</td>\n",
       "      <td>1.000000</td>\n",
       "      <td>1.000000</td>\n",
       "    </tr>\n",
       "    <tr>\n",
       "      <th>75%</th>\n",
       "      <td>37.000000</td>\n",
       "      <td>3.000000</td>\n",
       "      <td>3.000000</td>\n",
       "    </tr>\n",
       "    <tr>\n",
       "      <th>max</th>\n",
       "      <td>64.000000</td>\n",
       "      <td>20.000000</td>\n",
       "      <td>20.000000</td>\n",
       "    </tr>\n",
       "  </tbody>\n",
       "</table>\n",
       "</div>"
      ],
      "text/plain": [
       "            Avg_Age     YearsCode  Avg_YearsCode\n",
       "count  19717.000000  14761.000000   14761.000000\n",
       "mean      31.296952      3.345844       3.345844\n",
       "std       10.468272      4.156520       4.156520\n",
       "min       -1.000000      1.000000       1.000000\n",
       "25%       23.000000      1.000000       1.000000\n",
       "50%       27.000000      1.000000       1.000000\n",
       "75%       37.000000      3.000000       3.000000\n",
       "max       64.000000     20.000000      20.000000"
      ]
     },
     "execution_count": 17,
     "metadata": {},
     "output_type": "execute_result"
    }
   ],
   "source": [
    "new_survey_df.describe()"
   ]
  },
  {
   "cell_type": "markdown",
   "metadata": {},
   "source": [
    "There seems to be a problem with the Avg_Age column, as the minimum value is -1 . This is a common issue with surveys: responses may contain invalid values due to accidental or intentional errors while responding. A simple fix would be to ignore the rows where the age is lower than 17 years as invalid survey responses. We can do this using the `.drop` method, [as explained here](https://www.geeksforgeeks.org/drop-rows-from-the-dataframe-based-on-certain-condition-applied-on-a-column/)."
   ]
  },
  {
   "cell_type": "code",
   "execution_count": 18,
   "metadata": {},
   "outputs": [],
   "source": [
    "new_survey_df.drop(new_survey_df[new_survey_df.Avg_Age < 17].index, inplace=True)"
   ]
  },
  {
   "cell_type": "code",
   "execution_count": 19,
   "metadata": {
    "scrolled": true
   },
   "outputs": [
    {
     "data": {
      "text/plain": [
       "Male                       16057\n",
       "Female                      3208\n",
       "Prefer not to say            307\n",
       "Prefer to self-describe       44\n",
       "Name: Q2, dtype: int64"
      ]
     },
     "execution_count": 19,
     "metadata": {},
     "output_type": "execute_result"
    }
   ],
   "source": [
    "new_survey_df['Q2'].value_counts()"
   ]
  },
  {
   "cell_type": "markdown",
   "metadata": {},
   "source": [
    "The gender column also allows for picking multiple options. We'll remove values containing more than one option to simplify our analysis."
   ]
  },
  {
   "cell_type": "code",
   "execution_count": 20,
   "metadata": {},
   "outputs": [],
   "source": [
    "new_survey_df.where(~(new_survey_df.Q2.str.contains(';', na=False)), np.nan, inplace=True)"
   ]
  },
  {
   "cell_type": "markdown",
   "metadata": {},
   "source": [
    "We've now cleaned up and prepared the dataset for analysis. Let's take a look at a sample of rows from the data frame."
   ]
  },
  {
   "cell_type": "code",
   "execution_count": 21,
   "metadata": {
    "scrolled": false
   },
   "outputs": [
    {
     "data": {
      "text/html": [
       "<div>\n",
       "<style scoped>\n",
       "    .dataframe tbody tr th:only-of-type {\n",
       "        vertical-align: middle;\n",
       "    }\n",
       "\n",
       "    .dataframe tbody tr th {\n",
       "        vertical-align: top;\n",
       "    }\n",
       "\n",
       "    .dataframe thead th {\n",
       "        text-align: right;\n",
       "    }\n",
       "</style>\n",
       "<table border=\"1\" class=\"dataframe\">\n",
       "  <thead>\n",
       "    <tr style=\"text-align: right;\">\n",
       "      <th></th>\n",
       "      <th>Q1</th>\n",
       "      <th>Q2</th>\n",
       "      <th>Q3</th>\n",
       "      <th>Q4</th>\n",
       "      <th>Q5</th>\n",
       "      <th>Q8</th>\n",
       "      <th>Q10</th>\n",
       "      <th>Q13_Part_1_Udacity</th>\n",
       "      <th>Q13_Part_2_Coursera</th>\n",
       "      <th>Q13_Part_3_edX</th>\n",
       "      <th>...</th>\n",
       "      <th>Q34_Part_4_MicrosoftSQLServer</th>\n",
       "      <th>Q34_Part_5_OracleDatabase</th>\n",
       "      <th>Q34_Part_6_MicrosoftAccess</th>\n",
       "      <th>Q34_Part_7_AWSRelationalDatabaseService</th>\n",
       "      <th>Q34_Part_8_AWSDynamoDB</th>\n",
       "      <th>Q34_Part_9_AzureSQLDatabase</th>\n",
       "      <th>Q34_Part_10_GoogleCloudSQL</th>\n",
       "      <th>Avg_Age</th>\n",
       "      <th>YearsCode</th>\n",
       "      <th>Avg_YearsCode</th>\n",
       "    </tr>\n",
       "  </thead>\n",
       "  <tbody>\n",
       "    <tr>\n",
       "      <th>14147</th>\n",
       "      <td>40-44</td>\n",
       "      <td>Male</td>\n",
       "      <td>United States of America</td>\n",
       "      <td>Doctoral degree</td>\n",
       "      <td>Other</td>\n",
       "      <td>We are exploring ML methods (and may one day p...</td>\n",
       "      <td>90,000-99,999</td>\n",
       "      <td>NaN</td>\n",
       "      <td>Coursera</td>\n",
       "      <td>NaN</td>\n",
       "      <td>...</td>\n",
       "      <td>NaN</td>\n",
       "      <td>NaN</td>\n",
       "      <td>NaN</td>\n",
       "      <td>NaN</td>\n",
       "      <td>NaN</td>\n",
       "      <td>NaN</td>\n",
       "      <td>NaN</td>\n",
       "      <td>42</td>\n",
       "      <td>10.0</td>\n",
       "      <td>10.0</td>\n",
       "    </tr>\n",
       "    <tr>\n",
       "      <th>1488</th>\n",
       "      <td>35-39</td>\n",
       "      <td>Male</td>\n",
       "      <td>Ukraine</td>\n",
       "      <td>Master’s degree</td>\n",
       "      <td>Software Engineer</td>\n",
       "      <td>I do not know</td>\n",
       "      <td>3,000-3,999</td>\n",
       "      <td>NaN</td>\n",
       "      <td>NaN</td>\n",
       "      <td>NaN</td>\n",
       "      <td>...</td>\n",
       "      <td>NaN</td>\n",
       "      <td>NaN</td>\n",
       "      <td>NaN</td>\n",
       "      <td>NaN</td>\n",
       "      <td>NaN</td>\n",
       "      <td>NaN</td>\n",
       "      <td>NaN</td>\n",
       "      <td>37</td>\n",
       "      <td>NaN</td>\n",
       "      <td>NaN</td>\n",
       "    </tr>\n",
       "    <tr>\n",
       "      <th>434</th>\n",
       "      <td>18-21</td>\n",
       "      <td>Male</td>\n",
       "      <td>India</td>\n",
       "      <td>Bachelor’s degree</td>\n",
       "      <td>Student</td>\n",
       "      <td>NaN</td>\n",
       "      <td>NaN</td>\n",
       "      <td>NaN</td>\n",
       "      <td>NaN</td>\n",
       "      <td>NaN</td>\n",
       "      <td>...</td>\n",
       "      <td>NaN</td>\n",
       "      <td>NaN</td>\n",
       "      <td>NaN</td>\n",
       "      <td>NaN</td>\n",
       "      <td>NaN</td>\n",
       "      <td>NaN</td>\n",
       "      <td>NaN</td>\n",
       "      <td>20</td>\n",
       "      <td>1.0</td>\n",
       "      <td>1.0</td>\n",
       "    </tr>\n",
       "    <tr>\n",
       "      <th>19617</th>\n",
       "      <td>18-21</td>\n",
       "      <td>Female</td>\n",
       "      <td>Ukraine</td>\n",
       "      <td>NaN</td>\n",
       "      <td>NaN</td>\n",
       "      <td>NaN</td>\n",
       "      <td>NaN</td>\n",
       "      <td>NaN</td>\n",
       "      <td>NaN</td>\n",
       "      <td>NaN</td>\n",
       "      <td>...</td>\n",
       "      <td>NaN</td>\n",
       "      <td>NaN</td>\n",
       "      <td>NaN</td>\n",
       "      <td>NaN</td>\n",
       "      <td>NaN</td>\n",
       "      <td>NaN</td>\n",
       "      <td>NaN</td>\n",
       "      <td>20</td>\n",
       "      <td>NaN</td>\n",
       "      <td>NaN</td>\n",
       "    </tr>\n",
       "    <tr>\n",
       "      <th>13147</th>\n",
       "      <td>22-24</td>\n",
       "      <td>Male</td>\n",
       "      <td>United States of America</td>\n",
       "      <td>Master’s degree</td>\n",
       "      <td>Student</td>\n",
       "      <td>NaN</td>\n",
       "      <td>NaN</td>\n",
       "      <td>NaN</td>\n",
       "      <td>Coursera</td>\n",
       "      <td>NaN</td>\n",
       "      <td>...</td>\n",
       "      <td>NaN</td>\n",
       "      <td>NaN</td>\n",
       "      <td>NaN</td>\n",
       "      <td>NaN</td>\n",
       "      <td>NaN</td>\n",
       "      <td>NaN</td>\n",
       "      <td>NaN</td>\n",
       "      <td>23</td>\n",
       "      <td>3.0</td>\n",
       "      <td>3.0</td>\n",
       "    </tr>\n",
       "    <tr>\n",
       "      <th>12046</th>\n",
       "      <td>25-29</td>\n",
       "      <td>Female</td>\n",
       "      <td>China</td>\n",
       "      <td>NaN</td>\n",
       "      <td>NaN</td>\n",
       "      <td>NaN</td>\n",
       "      <td>NaN</td>\n",
       "      <td>NaN</td>\n",
       "      <td>NaN</td>\n",
       "      <td>NaN</td>\n",
       "      <td>...</td>\n",
       "      <td>NaN</td>\n",
       "      <td>NaN</td>\n",
       "      <td>NaN</td>\n",
       "      <td>NaN</td>\n",
       "      <td>NaN</td>\n",
       "      <td>NaN</td>\n",
       "      <td>NaN</td>\n",
       "      <td>27</td>\n",
       "      <td>NaN</td>\n",
       "      <td>NaN</td>\n",
       "    </tr>\n",
       "    <tr>\n",
       "      <th>17428</th>\n",
       "      <td>40-44</td>\n",
       "      <td>Female</td>\n",
       "      <td>China</td>\n",
       "      <td>Professional degree</td>\n",
       "      <td>Data Analyst</td>\n",
       "      <td>I do not know</td>\n",
       "      <td>$0-999</td>\n",
       "      <td>NaN</td>\n",
       "      <td>NaN</td>\n",
       "      <td>NaN</td>\n",
       "      <td>...</td>\n",
       "      <td>NaN</td>\n",
       "      <td>NaN</td>\n",
       "      <td>NaN</td>\n",
       "      <td>NaN</td>\n",
       "      <td>NaN</td>\n",
       "      <td>NaN</td>\n",
       "      <td>NaN</td>\n",
       "      <td>42</td>\n",
       "      <td>1.0</td>\n",
       "      <td>1.0</td>\n",
       "    </tr>\n",
       "    <tr>\n",
       "      <th>989</th>\n",
       "      <td>40-44</td>\n",
       "      <td>Male</td>\n",
       "      <td>Colombia</td>\n",
       "      <td>Professional degree</td>\n",
       "      <td>Data Analyst</td>\n",
       "      <td>No (we do not use ML methods)</td>\n",
       "      <td>10,000-14,999</td>\n",
       "      <td>NaN</td>\n",
       "      <td>NaN</td>\n",
       "      <td>edX</td>\n",
       "      <td>...</td>\n",
       "      <td>NaN</td>\n",
       "      <td>NaN</td>\n",
       "      <td>NaN</td>\n",
       "      <td>NaN</td>\n",
       "      <td>NaN</td>\n",
       "      <td>NaN</td>\n",
       "      <td>NaN</td>\n",
       "      <td>42</td>\n",
       "      <td>1.0</td>\n",
       "      <td>1.0</td>\n",
       "    </tr>\n",
       "    <tr>\n",
       "      <th>2269</th>\n",
       "      <td>30-34</td>\n",
       "      <td>Male</td>\n",
       "      <td>United States of America</td>\n",
       "      <td>Master’s degree</td>\n",
       "      <td>Data Scientist</td>\n",
       "      <td>We have well established ML methods (i.e., mod...</td>\n",
       "      <td>150,000-199,999</td>\n",
       "      <td>NaN</td>\n",
       "      <td>Coursera</td>\n",
       "      <td>NaN</td>\n",
       "      <td>...</td>\n",
       "      <td>NaN</td>\n",
       "      <td>NaN</td>\n",
       "      <td>NaN</td>\n",
       "      <td>AWS Relational Database Service</td>\n",
       "      <td>AWS DynamoDB</td>\n",
       "      <td>NaN</td>\n",
       "      <td>NaN</td>\n",
       "      <td>32</td>\n",
       "      <td>3.0</td>\n",
       "      <td>3.0</td>\n",
       "    </tr>\n",
       "    <tr>\n",
       "      <th>217</th>\n",
       "      <td>22-24</td>\n",
       "      <td>Female</td>\n",
       "      <td>Other</td>\n",
       "      <td>Bachelor’s degree</td>\n",
       "      <td>Student</td>\n",
       "      <td>NaN</td>\n",
       "      <td>NaN</td>\n",
       "      <td>NaN</td>\n",
       "      <td>Coursera</td>\n",
       "      <td>edX</td>\n",
       "      <td>...</td>\n",
       "      <td>NaN</td>\n",
       "      <td>NaN</td>\n",
       "      <td>NaN</td>\n",
       "      <td>NaN</td>\n",
       "      <td>NaN</td>\n",
       "      <td>NaN</td>\n",
       "      <td>NaN</td>\n",
       "      <td>23</td>\n",
       "      <td>1.0</td>\n",
       "      <td>1.0</td>\n",
       "    </tr>\n",
       "  </tbody>\n",
       "</table>\n",
       "<p>10 rows × 113 columns</p>\n",
       "</div>"
      ],
      "text/plain": [
       "          Q1      Q2                        Q3                   Q4  \\\n",
       "14147  40-44    Male  United States of America      Doctoral degree   \n",
       "1488   35-39    Male                   Ukraine      Master’s degree   \n",
       "434    18-21    Male                     India    Bachelor’s degree   \n",
       "19617  18-21  Female                   Ukraine                  NaN   \n",
       "13147  22-24    Male  United States of America      Master’s degree   \n",
       "12046  25-29  Female                     China                  NaN   \n",
       "17428  40-44  Female                     China  Professional degree   \n",
       "989    40-44    Male                  Colombia  Professional degree   \n",
       "2269   30-34    Male  United States of America      Master’s degree   \n",
       "217    22-24  Female                     Other    Bachelor’s degree   \n",
       "\n",
       "                      Q5                                                 Q8  \\\n",
       "14147              Other  We are exploring ML methods (and may one day p...   \n",
       "1488   Software Engineer                                      I do not know   \n",
       "434              Student                                                NaN   \n",
       "19617                NaN                                                NaN   \n",
       "13147            Student                                                NaN   \n",
       "12046                NaN                                                NaN   \n",
       "17428       Data Analyst                                      I do not know   \n",
       "989         Data Analyst                      No (we do not use ML methods)   \n",
       "2269      Data Scientist  We have well established ML methods (i.e., mod...   \n",
       "217              Student                                                NaN   \n",
       "\n",
       "                   Q10 Q13_Part_1_Udacity Q13_Part_2_Coursera Q13_Part_3_edX  \\\n",
       "14147    90,000-99,999                NaN            Coursera            NaN   \n",
       "1488       3,000-3,999                NaN                 NaN            NaN   \n",
       "434                NaN                NaN                 NaN            NaN   \n",
       "19617              NaN                NaN                 NaN            NaN   \n",
       "13147              NaN                NaN            Coursera            NaN   \n",
       "12046              NaN                NaN                 NaN            NaN   \n",
       "17428           $0-999                NaN                 NaN            NaN   \n",
       "989      10,000-14,999                NaN                 NaN            edX   \n",
       "2269   150,000-199,999                NaN            Coursera            NaN   \n",
       "217                NaN                NaN            Coursera            edX   \n",
       "\n",
       "       ... Q34_Part_4_MicrosoftSQLServer Q34_Part_5_OracleDatabase  \\\n",
       "14147  ...                           NaN                       NaN   \n",
       "1488   ...                           NaN                       NaN   \n",
       "434    ...                           NaN                       NaN   \n",
       "19617  ...                           NaN                       NaN   \n",
       "13147  ...                           NaN                       NaN   \n",
       "12046  ...                           NaN                       NaN   \n",
       "17428  ...                           NaN                       NaN   \n",
       "989    ...                           NaN                       NaN   \n",
       "2269   ...                           NaN                       NaN   \n",
       "217    ...                           NaN                       NaN   \n",
       "\n",
       "      Q34_Part_6_MicrosoftAccess Q34_Part_7_AWSRelationalDatabaseService  \\\n",
       "14147                        NaN                                     NaN   \n",
       "1488                         NaN                                     NaN   \n",
       "434                          NaN                                     NaN   \n",
       "19617                        NaN                                     NaN   \n",
       "13147                        NaN                                     NaN   \n",
       "12046                        NaN                                     NaN   \n",
       "17428                        NaN                                     NaN   \n",
       "989                          NaN                                     NaN   \n",
       "2269                         NaN         AWS Relational Database Service   \n",
       "217                          NaN                                     NaN   \n",
       "\n",
       "      Q34_Part_8_AWSDynamoDB Q34_Part_9_AzureSQLDatabase  \\\n",
       "14147                    NaN                         NaN   \n",
       "1488                     NaN                         NaN   \n",
       "434                      NaN                         NaN   \n",
       "19617                    NaN                         NaN   \n",
       "13147                    NaN                         NaN   \n",
       "12046                    NaN                         NaN   \n",
       "17428                    NaN                         NaN   \n",
       "989                      NaN                         NaN   \n",
       "2269            AWS DynamoDB                         NaN   \n",
       "217                      NaN                         NaN   \n",
       "\n",
       "      Q34_Part_10_GoogleCloudSQL Avg_Age YearsCode Avg_YearsCode  \n",
       "14147                        NaN      42      10.0          10.0  \n",
       "1488                         NaN      37       NaN           NaN  \n",
       "434                          NaN      20       1.0           1.0  \n",
       "19617                        NaN      20       NaN           NaN  \n",
       "13147                        NaN      23       3.0           3.0  \n",
       "12046                        NaN      27       NaN           NaN  \n",
       "17428                        NaN      42       1.0           1.0  \n",
       "989                          NaN      42       1.0           1.0  \n",
       "2269                         NaN      32       3.0           3.0  \n",
       "217                          NaN      23       1.0           1.0  \n",
       "\n",
       "[10 rows x 113 columns]"
      ]
     },
     "execution_count": 21,
     "metadata": {},
     "output_type": "execute_result"
    }
   ],
   "source": [
    "new_survey_df.sample(10)"
   ]
  },
  {
   "cell_type": "code",
   "execution_count": 22,
   "metadata": {},
   "outputs": [],
   "source": [
    "import jovian"
   ]
  },
  {
   "cell_type": "code",
   "execution_count": 23,
   "metadata": {
    "scrolled": true
   },
   "outputs": [
    {
     "data": {
      "application/javascript": [
       "window.require && require([\"base/js/namespace\"],function(Jupyter){Jupyter.notebook.save_checkpoint()})"
      ],
      "text/plain": [
       "<IPython.core.display.Javascript object>"
      ]
     },
     "metadata": {},
     "output_type": "display_data"
    },
    {
     "name": "stdout",
     "output_type": "stream",
     "text": [
      "[jovian] Updating notebook \"skymehra008/python-data-science-job-analysis\" on https://jovian.com\u001b[0m\n",
      "[jovian] Committed successfully! https://jovian.com/skymehra008/python-data-science-job-analysis\u001b[0m\n"
     ]
    },
    {
     "data": {
      "text/plain": [
       "'https://jovian.com/skymehra008/python-data-science-job-analysis'"
      ]
     },
     "execution_count": 23,
     "metadata": {},
     "output_type": "execute_result"
    }
   ],
   "source": [
    "jovian.commit()"
   ]
  },
  {
   "cell_type": "markdown",
   "metadata": {},
   "source": [
    "## Exploratory Analysis and Visualization\n",
    "\n",
    "Before we ask questions about the survey responses, it would help to understand the respondents' demographics, i.e., country, age, gender, education level, employment level, etc. It's essential to explore these variables to understand how representative the survey is of the worldwide programming community. A survey of this scale generally tends to have some [selection bias](https://en.wikipedia.org/wiki/Selection_bias).\n",
    "\n",
    "Let's begin by importing `matplotlib.pyplot` and `seaborn`."
   ]
  },
  {
   "cell_type": "code",
   "execution_count": 24,
   "metadata": {},
   "outputs": [],
   "source": [
    "import seaborn as sns\n",
    "import matplotlib\n",
    "import matplotlib.pyplot as plt\n",
    "%matplotlib inline"
   ]
  },
  {
   "cell_type": "markdown",
   "metadata": {},
   "source": [
    "### Country\n",
    "\n",
    "Let's look at the number of countries from which there are responses in the survey and plot the ten countries with the highest number of responses."
   ]
  },
  {
   "cell_type": "code",
   "execution_count": 25,
   "metadata": {},
   "outputs": [
    {
     "data": {
      "text/plain": [
       "59"
      ]
     },
     "execution_count": 25,
     "metadata": {},
     "output_type": "execute_result"
    }
   ],
   "source": [
    "#Q3 -Country \n",
    "new_survey_df.Q3.nunique()"
   ]
  },
  {
   "cell_type": "code",
   "execution_count": 26,
   "metadata": {},
   "outputs": [
    {
     "data": {
      "text/plain": [
       "India                                                   4783\n",
       "United States of America                                3045\n",
       "Other                                                   1038\n",
       "Brazil                                                   725\n",
       "Japan                                                    672\n",
       "Russia                                                   621\n",
       "China                                                    573\n",
       "Germany                                                  529\n",
       "United Kingdom of Great Britain and Northern Ireland     481\n",
       "Canada                                                   440\n",
       "Spain                                                    399\n",
       "Nigeria                                                  395\n",
       "France                                                   385\n",
       "Taiwan                                                   300\n",
       "Turkey                                                   288\n",
       "Name: Q3, dtype: int64"
      ]
     },
     "execution_count": 26,
     "metadata": {},
     "output_type": "execute_result"
    }
   ],
   "source": [
    "top_countries = new_survey_df.Q3.value_counts().head(15)\n",
    "top_countries"
   ]
  },
  {
   "cell_type": "markdown",
   "metadata": {},
   "source": [
    "We can visualize this information using a bar chart."
   ]
  },
  {
   "cell_type": "code",
   "execution_count": 27,
   "metadata": {},
   "outputs": [
    {
     "data": {
      "image/png": "[encoded data removed]",
      "text/plain": [
       "<Figure size 864x432 with 1 Axes>"
      ]
     },
     "metadata": {
      "needs_background": "light"
     },
     "output_type": "display_data"
    }
   ],
   "source": [
    "# Set the figure size\n",
    "plt.figure(figsize=(12, 6))\n",
    "\n",
    "# Create the bar graph with switched axes\n",
    "sns.barplot(x=top_countries.values, y=top_countries.index, palette='viridis')\n",
    "\n",
    "# Set the labels and title\n",
    "plt.xlabel('Number of Respondents')\n",
    "plt.ylabel('Country')\n",
    "plt.title('Number of Respondents from Different Countries')\n",
    "# Show the plot\n",
    "plt.show()\n"
   ]
  },
  {
   "cell_type": "markdown",
   "metadata": {},
   "source": [
    "It appears that a disproportionately high number of respondents are from the India and USA, probably because the survey is in English, and these countries have the highest English-speaking populations. We can already see that the survey may not be representative of the global programming community - especially from non-English speaking countries. Programmers from non-English speaking countries are almost certainly underrepresented.\n",
    "(For different Pallete desings for matplotlib and seaborn library refer this link:\n",
    "https://r02b.github.io/seaborn_palettes/#:~:text=to%20the%20others.-,matplotlib%20palettes%2C%20and%20Seaborn%20variations,are%20tab20%20%2C%20tab20b%20and%20tab20c%20.)"
   ]
  },
  {
   "cell_type": "markdown",
   "metadata": {},
   "source": [
    "### Age\n",
    "\n",
    "The distribution of respondents' age is another crucial factor to look at. We used a histogram to visualize it. "
   ]
  },
  {
   "cell_type": "code",
   "execution_count": 28,
   "metadata": {
    "scrolled": true
   },
   "outputs": [
    {
     "data": {
      "image/png": "[encoded data removed]",
      "text/plain": [
       "<Figure size 864x432 with 1 Axes>"
      ]
     },
     "metadata": {
      "needs_background": "light"
     },
     "output_type": "display_data"
    }
   ],
   "source": [
    "plt.figure(figsize=(12, 6))\n",
    "plt.title('Applicants Age')\n",
    "plt.xlabel('Age')\n",
    "plt.ylabel('Number of respondents')\n",
    "\n",
    "plt.hist(new_survey_df.Avg_Age, bins=np.arange(18,80,5), color='purple');"
   ]
  },
  {
   "cell_type": "markdown",
   "metadata": {},
   "source": [
    "It appears that a large percentage of respondents are 20-45 years old. It's somewhat representative of the programming community in general. Many young people have taken up computer science as their field of study or profession in the last 20 years."
   ]
  },
  {
   "cell_type": "markdown",
   "metadata": {},
   "source": [
    "### Gender\n",
    "\n",
    "Let's look at the distribution of responses for the Gender. It's a well-known fact that women and non-binary genders are underrepresented in the programming community, so we might expect to see a skewed distribution here."
   ]
  },
  {
   "cell_type": "code",
   "execution_count": 29,
   "metadata": {
    "scrolled": true
   },
   "outputs": [
    {
     "data": {
      "text/plain": [
       "Male                       16057\n",
       "Female                      3208\n",
       "Prefer not to say            307\n",
       "Prefer to self-describe       44\n",
       "Name: Q2, dtype: int64"
      ]
     },
     "execution_count": 29,
     "metadata": {},
     "output_type": "execute_result"
    }
   ],
   "source": [
    "gender_counts = new_survey_df.Q2.value_counts()\n",
    "gender_counts"
   ]
  },
  {
   "cell_type": "markdown",
   "metadata": {},
   "source": [
    "A pie chart would be a great way to visualize the distribution."
   ]
  },
  {
   "cell_type": "code",
   "execution_count": 30,
   "metadata": {},
   "outputs": [
    {
     "data": {
      "image/png": "[encoded data removed]",
      "text/plain": [
       "<Figure size 720x432 with 1 Axes>"
      ]
     },
     "metadata": {},
     "output_type": "display_data"
    }
   ],
   "source": [
    "colors = ['#ff9999', '#66b3ff', '#99ff99', '#ffcc99']\n",
    "\n",
    "# Set up the figure and axes\n",
    "fig, ax = plt.subplots(figsize=(10, 6))\n",
    "ax.set_title('Gender of Respondents')\n",
    "\n",
    "# Create the pie chart with customizations\n",
    "wedges, texts, autotexts = ax.pie(gender_counts, labels=gender_counts.index, autopct='%1.1f%%', startangle=180, colors=colors,\n",
    "                                 wedgeprops={'linewidth': 1, 'edgecolor': 'white'})\n",
    "\n",
    "# Add a shadow effect to the pie chart\n",
    "ax.set_aspect('equal')\n",
    "ax.legend(wedges, gender_counts.index, loc='best', bbox_to_anchor=(1, 0.5))\n",
    "plt.setp(autotexts, size=12, weight='bold', color='white')\n",
    "plt.setp(texts, size=12)\n",
    "\n",
    "# Display the chart\n",
    "plt.show()\n"
   ]
  },
  {
   "cell_type": "markdown",
   "metadata": {},
   "source": [
    "Only about 18.2% of survey respondents who have answered the question identify as women or prefered not to say. This number is higher than the overall percentage of women & non-binary genders in the programming community - which is estimated to be around 9%. Which could be a good sign for emerging programmers other than male.\n",
    "\n"
   ]
  },
  {
   "cell_type": "markdown",
   "metadata": {},
   "source": [
    "### Education Level\n",
    "\n",
    "Formal education in computer science is often considered an essential requirement for becoming a programmer. However, there are many free resources & tutorials available online to learn programming. Let's compare the education levels of respondents to gain some insight into this. We'll use a horizontal bar plot here."
   ]
  },
  {
   "cell_type": "code",
   "execution_count": 31,
   "metadata": {
    "scrolled": false
   },
   "outputs": [
    {
     "data": {
      "image/png": "[encoded data removed]",
      "text/plain": [
       "<Figure size 432x288 with 1 Axes>"
      ]
     },
     "metadata": {
      "needs_background": "light"
     },
     "output_type": "display_data"
    }
   ],
   "source": [
    "sns.countplot(y=new_survey_df.Q4)\n",
    "plt.xticks(rotation=75);\n",
    "plt.title('Highest Education Level')\n",
    "plt.ylabel(None);"
   ]
  },
  {
   "cell_type": "markdown",
   "metadata": {},
   "source": [
    "It appears that most of the respondents hold a bachelor's or master's degree, so most programmers seem to have some college education. However, it's not clear from this graph alone if they hold a degree in computer science."
   ]
  },
  {
   "cell_type": "markdown",
   "metadata": {},
   "source": [
    "### Salary\n",
    "IT sector comes out in the top domains in terms of Salary .\n",
    "lets compare the Average salary based on different factors "
   ]
  },
  {
   "cell_type": "markdown",
   "metadata": {},
   "source": [
    "first we will clean salary data and take average of the ranges and remove nan values "
   ]
  },
  {
   "cell_type": "code",
   "execution_count": 32,
   "metadata": {
    "scrolled": true
   },
   "outputs": [],
   "source": [
    "def process_salary(x):\n",
    "    if pd.isna(x) or not isinstance(x, str) or '-' not in x:\n",
    "        return -1\n",
    "    elif x == '$0':\n",
    "        return 0\n",
    "    else:\n",
    "        try:\n",
    "            return round(sum(map(int, x.replace(',', '').split('-')))/2)\n",
    "        except ValueError:\n",
    "            return -1\n",
    "\n",
    "new_survey_df['Salary'] = new_survey_df['Q10'].apply(process_salary)\n"
   ]
  },
  {
   "cell_type": "markdown",
   "metadata": {},
   "source": [
    "### Salary VS Gender"
   ]
  },
  {
   "cell_type": "markdown",
   "metadata": {},
   "source": [
    "Comparing average salaries based on different genders:"
   ]
  },
  {
   "cell_type": "code",
   "execution_count": 33,
   "metadata": {},
   "outputs": [
    {
     "data": {
      "image/png": "[encoded data removed]",
      "text/plain": [
       "<Figure size 576x432 with 1 Axes>"
      ]
     },
     "metadata": {
      "needs_background": "light"
     },
     "output_type": "display_data"
    }
   ],
   "source": [
    "# Group the data by gender and calculate the average salary\n",
    "average_salary_by_gender = new_survey_df.groupby('Q2')['Salary'].mean()\n",
    "\n",
    "# Define custom colors for different cases\n",
    "colors = ['blue', 'pink', 'red', 'green']\n",
    "\n",
    "# Plot the bar chart\n",
    "plt.figure(figsize=(8, 6))\n",
    "ax = average_salary_by_gender.plot(kind='bar', color=colors)\n",
    "plt.title('Average Salary by Gender in $')\n",
    "plt.xlabel('Gender')\n",
    "plt.ylabel('Average Salary')\n",
    "plt.xticks(rotation=0)\n",
    "\n",
    "# Display the values on top of each bar\n",
    "for i, v in enumerate(average_salary_by_gender):\n",
    "    ax.text(i, v, str(round(v, 2)), ha='center', va='bottom')\n",
    "\n",
    "# Customize colors for each bar\n",
    "for i, bar in enumerate(ax.patches):\n",
    "    bar.set_color(colors[i % len(colors)])\n",
    "\n",
    "plt.show()\n"
   ]
  },
  {
   "cell_type": "code",
   "execution_count": 34,
   "metadata": {},
   "outputs": [
    {
     "name": "stdout",
     "output_type": "stream",
     "text": [
      "Percentage difference in salaries between male and female: -27.73%\n"
     ]
    }
   ],
   "source": [
    "# Calculate the percentage difference\n",
    "percentage_difference = ((average_salary_by_gender['Female'] - average_salary_by_gender['Male']) / average_salary_by_gender['Male']) * 100\n",
    "\n",
    "# Print the percentage difference\n",
    "print(\"Percentage difference in salaries between male and female: {:.2f}%\".format(percentage_difference))"
   ]
  },
  {
   "cell_type": "markdown",
   "metadata": {},
   "source": [
    "There is a huge gender bias between male and female in the IT domain . The Difference came out the data is around 28% which is less than the estimated value of 40%. "
   ]
  },
  {
   "cell_type": "markdown",
   "metadata": {},
   "source": [
    "### Salary Vs Countries"
   ]
  },
  {
   "cell_type": "markdown",
   "metadata": {},
   "source": [
    "We can also compare out of all the countries mentioned in the data ,which countries pays the highest salaries to their employees"
   ]
  },
  {
   "cell_type": "code",
   "execution_count": 35,
   "metadata": {
    "scrolled": true
   },
   "outputs": [
    {
     "data": {
      "image/png": "[encoded data removed]",
      "text/plain": [
       "<Figure size 864x432 with 1 Axes>"
      ]
     },
     "metadata": {
      "needs_background": "light"
     },
     "output_type": "display_data"
    }
   ],
   "source": [
    "# Group the data by country and calculate the average salary\n",
    "average_salary_by_country = new_survey_df.groupby('Q3')['Salary'].mean()\n",
    "\n",
    "# Sort the average salaries in descending order\n",
    "average_salary_by_country = average_salary_by_country.sort_values(ascending=False).head(50)\n",
    "\n",
    "# Plot the bar chart\n",
    "plt.figure(figsize=(12, 6))\n",
    "average_salary_by_country.plot(kind='bar', color='blue')\n",
    "plt.title('Average Salary by Country')\n",
    "plt.xlabel('Country')\n",
    "plt.ylabel('Average Salary')\n",
    "plt.xticks(rotation=90)\n",
    "plt.show()\n"
   ]
  },
  {
   "cell_type": "markdown",
   "metadata": {},
   "source": [
    "From the graph we can conclude That USA comes at the top for paying highest salaries to IT officials while India comes at position 46 out of 59 countries . The Average Salaries has a varying distribution because of their different government policies and GDP . "
   ]
  },
  {
   "cell_type": "markdown",
   "metadata": {},
   "source": [
    "### Salary Vs IT Professions "
   ]
  },
  {
   "cell_type": "markdown",
   "metadata": {},
   "source": [
    "There are numerous domains within the field of Information Technology (IT). Here are some of the prominent ones:\n",
    "* Software Development\n",
    "* Web Development \n",
    "* Network Administration\n",
    "* Database Administration\n",
    "* Cyber security\n",
    "* Cloud Computing\n",
    "* Data Science \n",
    "* Artificial intelligence \n",
    "We only took few of these fields related to data for the Analysis"
   ]
  },
  {
   "cell_type": "code",
   "execution_count": 36,
   "metadata": {
    "scrolled": true
   },
   "outputs": [
    {
     "data": {
      "image/png": "[encoded data removed]",
      "text/plain": [
       "<Figure size 864x432 with 1 Axes>"
      ]
     },
     "metadata": {
      "needs_background": "light"
     },
     "output_type": "display_data"
    }
   ],
   "source": [
    "\n",
    "# Group the data by current profession and calculate the average salary\n",
    "average_salary_by_profession = new_survey_df.groupby('Q5')['Salary'].mean()\n",
    "\n",
    "# Sort the average salaries in descending order\n",
    "average_salary_by_profession = average_salary_by_profession.sort_values(ascending=False)\n",
    "\n",
    "# Plot the bar chart\n",
    "plt.figure(figsize=(12, 6))\n",
    "average_salary_by_profession.plot(kind='bar', color='blue')\n",
    "plt.title('Average Salary by Current Profession')\n",
    "plt.xlabel('Current Profession')\n",
    "plt.ylabel('Average Salary')\n",
    "plt.xticks(rotation=90)\n",
    "plt.show()\n"
   ]
  },
  {
   "cell_type": "markdown",
   "metadata": {},
   "source": [
    "The above Bar graph shows the top fields serving for the Highest Salaries among Other Domains . Project Management comes out at the top."
   ]
  },
  {
   "cell_type": "markdown",
   "metadata": {},
   "source": [
    "## Asking and Answering Questions\n",
    "\n",
    "We've already gained several insights about the respondents and the programming community by exploring individual columns of the dataset. Let's ask some specific questions and try to answer them using data frame operations and visualizations."
   ]
  },
  {
   "cell_type": "markdown",
   "metadata": {},
   "source": [
    "#### What are the most Popular Platforms for Learning Data Science and Machine Learning ?"
   ]
  },
  {
   "cell_type": "markdown",
   "metadata": {},
   "source": [
    "To answer this question we will use Q13-On which platforms have you begun or completed data science courses? (Select all that apply) - Selected Choice and its parts and compare their count values and visualize it on the graph. "
   ]
  },
  {
   "cell_type": "code",
   "execution_count": 37,
   "metadata": {},
   "outputs": [
    {
     "data": {
      "image/png": "[encoded data removed]",
      "text/plain": [
       "<Figure size 576x720 with 1 Axes>"
      ]
     },
     "metadata": {
      "needs_background": "light"
     },
     "output_type": "display_data"
    }
   ],
   "source": [
    "import random\n",
    "# Create a dictionary to store the platform names and their counts\n",
    "platform_counts = {}\n",
    "\n",
    "# Define the mapping of column names to course names\n",
    "column_course_mapping = {\n",
    "    'Q13_Part_1_Udacity': 'Udacity',\n",
    "    'Q13_Part_2_Coursera': 'Coursera',\n",
    "    'Q13_Part_3_edX': 'edX',\n",
    "    'Q13_Part_4_DataCamp': 'DataCamp',\n",
    "    'Q13_Part_5_DataQuest': 'DataQuest',\n",
    "    'Q13_Part_6_KaggleCourses(i.e.KaggleLearn)': 'Kaggle Courses',\n",
    "    'Q13_Part_7_Fast.ai': 'Fast.ai',\n",
    "    'Q13_Part_8_Udemy': 'Udemy',\n",
    "    'Q13_Part_9_LinkedInLearning': 'LinkedIn Learning',\n",
    "    'Q13_Part_10_UniversityCourses(resultinginauniversitydegree)': 'University Courses'\n",
    "}\n",
    "\n",
    "# Iterate over the columns and count the occurrences of each platform\n",
    "columns_to_compare = list(column_course_mapping.keys())\n",
    "\n",
    "for column in columns_to_compare:\n",
    "    platform_counts[column_course_mapping[column]] = new_survey_df[column].value_counts().sum()\n",
    "\n",
    "# Sort the platform counts in descending order\n",
    "sorted_platforms = sorted(platform_counts.items(), key=lambda x: x[1], reverse=False)\n",
    "\n",
    "# Get the platform names and their counts\n",
    "platform_names = [platform for platform, _ in sorted_platforms]\n",
    "platform_counts = [count for _, count in sorted_platforms]\n",
    "\n",
    "# Generate random colors\n",
    "colors = [random.choice(list(plt.rcParams['axes.prop_cycle']))['color'] for _ in range(len(platform_names))]\n",
    "\n",
    "plt.figure(figsize=(8, 10))\n",
    "plt.barh(np.arange(len(platform_names)), platform_counts, color=colors)\n",
    "plt.title('Number of Respondents per Platform for Learning Data Science')\n",
    "plt.xlabel('Number of Respondents')\n",
    "plt.ylabel('Platform')\n",
    "plt.yticks(np.arange(len(platform_names)), platform_names)\n",
    "plt.show()\n"
   ]
  },
  {
   "cell_type": "markdown",
   "metadata": {},
   "source": [
    "Coursera and Kaggle courses are most preferred by the respondents to study data science which was expected as Kaggle have a big community of data Scientist where different competitions are held . Where Coursera is popular among IT learners for its variety of Courses. Though these sites comes at the top but still there can be a difference in perticular course depending on the subject but we can still consider these sites at the initial stage and later determine which course is better ."
   ]
  },
  {
   "cell_type": "markdown",
   "metadata": {},
   "source": [
    "* random — Generate pseudo-random numbers\n",
    "Source code: Lib/random.py\n",
    "This module implements pseudo-random number generators for various distributions.\n",
    "for more information refer the documentation - https://docs.python.org/3/library/random.html"
   ]
  },
  {
   "cell_type": "markdown",
   "metadata": {},
   "source": [
    "#### What are the Basic primary tools used for Analysis ?"
   ]
  },
  {
   "cell_type": "markdown",
   "metadata": {},
   "source": [
    "To answer this question we will refer to the column Q14 - What is the primary tool that you use at work or school to analyze data? "
   ]
  },
  {
   "cell_type": "code",
   "execution_count": 38,
   "metadata": {},
   "outputs": [
    {
     "data": {
      "image/png": "[encoded data removed]",
      "text/plain": [
       "<Figure size 864x432 with 1 Axes>"
      ]
     },
     "metadata": {
      "needs_background": "light"
     },
     "output_type": "display_data"
    }
   ],
   "source": [
    "# Count the occurrences of each tool\n",
    "tool_counts = new_survey_df['Q14'].value_counts()\n",
    "\n",
    "# Set the figure size\n",
    "plt.figure(figsize=(12, 6))\n",
    "\n",
    "# Create the bar plot\n",
    "sns.barplot(x=tool_counts.values, y=tool_counts.index, palette='viridis')\n",
    "\n",
    "# Set the labels and title\n",
    "plt.xlabel('Count', fontsize=14)  # Adjust the font size for the x-label\n",
    "plt.ylabel('Primary Tool', fontsize=14)  # Adjust the font size for the y-label\n",
    "plt.title('Primary Tool Used for Analysis', fontsize=16)  # Adjust the font size for the title\n",
    "\n",
    "# Adjust the font size for the x-tick labels\n",
    "plt.xticks(fontsize=12)\n",
    "\n",
    "# Adjust the font size for the y-tick labels\n",
    "plt.yticks(fontsize=12)\n",
    "\n",
    "# Show the plot\n",
    "plt.show()\n"
   ]
  },
  {
   "cell_type": "markdown",
   "metadata": {},
   "source": [
    "from The data it seems most respondents prefer to use Local development tools such as Rstudios , jupyter lab , VScode etc but surprisingly not so surprising Basic Statistical softwares such as Excel and google sheets are still in high demand."
   ]
  },
  {
   "cell_type": "markdown",
   "metadata": {},
   "source": [
    "#### What are the most popular programming languages among data scientists and analysts ?"
   ]
  },
  {
   "cell_type": "markdown",
   "metadata": {},
   "source": [
    "we use Q18 - What programming languages do you use on a regular basis? for Answeing this Question."
   ]
  },
  {
   "cell_type": "code",
   "execution_count": 39,
   "metadata": {
    "scrolled": true
   },
   "outputs": [
    {
     "data": {
      "image/png": "[encoded data removed]",
      "text/plain": [
       "<Figure size 720x432 with 1 Axes>"
      ]
     },
     "metadata": {
      "needs_background": "light"
     },
     "output_type": "display_data"
    }
   ],
   "source": [
    "programming_languages = ['Q18_Part_1_Python', 'Q18_Part_2_R', 'Q18_Part_3_SQL', 'Q18_Part_4_C', 'Q18_Part_5_C++',\n",
    "                        'Q18_Part_6_Java', 'Q18_Part_7_Javascript', 'Q18_Part_8_TypeScript', 'Q18_Part_9_Bash',\n",
    "                        'Q18_Part_10_MATLAB']\n",
    "\n",
    "# Count the occurrences of each programming language\n",
    "language_counts = new_survey_df[programming_languages].apply(pd.Series.value_counts).sum(axis=1)\n",
    "\n",
    "# Find the most used programming language\n",
    "most_used_language = language_counts.idxmax()\n",
    "\n",
    "# Set the figure size\n",
    "plt.figure(figsize=(10, 6))\n",
    "\n",
    "# Create the bar plot\n",
    "plt.bar(language_counts.index, language_counts.values, color='skyblue')\n",
    "\n",
    "# Set the labels and title\n",
    "plt.xlabel('Programming Language')\n",
    "plt.ylabel('Count')\n",
    "plt.title('Most Used Programming Language')\n",
    "\n",
    "# Rotate the x-axis labels for better visibility\n",
    "plt.xticks(rotation=45, ha='right')\n",
    "\n",
    "# Highlight the bar corresponding to the most used language\n",
    "plt.bar(most_used_language, language_counts[most_used_language], color='orange')\n",
    "\n",
    "# Show the plot\n",
    "plt.show()\n"
   ]
  },
  {
   "cell_type": "markdown",
   "metadata": {},
   "source": [
    "It's not surprising that Python is the language most people use- since it is an easy-to-learn general-purpose programming language well suited for a variety of domains: application development, numerical computing, data analysis, machine learning, big data, cloud automation, web scraping, scripting, etc. While R programming and SQL are also in use by many users for handling data and performing various machine learning algorithm."
   ]
  },
  {
   "cell_type": "markdown",
   "metadata": {},
   "source": [
    "#### What are the recommended programming languages to learn for Data Science and  Analysis  ? Where to start from ?"
   ]
  },
  {
   "cell_type": "markdown",
   "metadata": {},
   "source": [
    "To answer this question - we will use Q19 - What programming language would you recommend an aspiring data scientist to learn first? -"
   ]
  },
  {
   "cell_type": "code",
   "execution_count": 40,
   "metadata": {
    "scrolled": true
   },
   "outputs": [
    {
     "data": {
      "image/png": "[encoded data removed]",
      "text/plain": [
       "<Figure size 864x432 with 1 Axes>"
      ]
     },
     "metadata": {
      "needs_background": "light"
     },
     "output_type": "display_data"
    }
   ],
   "source": [
    "recommended_languages = new_survey_df['Q19'].value_counts().head(10)\n",
    "\n",
    "# Set the figure size\n",
    "plt.figure(figsize=(12, 6))\n",
    "\n",
    "# Create the bar plot\n",
    "recommended_languages.plot(kind='bar', color='blue')\n",
    "\n",
    "# Set the labels and title\n",
    "plt.xlabel('Programming Language')\n",
    "plt.ylabel('Frequency')\n",
    "plt.title('Recommended Programming Languages by different Users for other Learners')\n",
    "\n",
    "# Rotate the x-axis labels if needed\n",
    "plt.xticks(rotation=45, ha='right')\n",
    "\n",
    "# Show the plot\n",
    "plt.show()\n"
   ]
  },
  {
   "cell_type": "markdown",
   "metadata": {},
   "source": [
    "Among the respondents who participated in the survey, Python was the most recommended programming language for beginners. It received a significant number of recommendations, highlighting its popularity and versatility in the data science and analytics community."
   ]
  },
  {
   "cell_type": "markdown",
   "metadata": {},
   "source": [
    "#### What are the most used Visualization tools used by the respondents ?\n",
    "Visualization plays a crucial role in data science as it allows us to gain insights, communicate findings, and present complex information in a more understandable and compelling manner. "
   ]
  },
  {
   "cell_type": "markdown",
   "metadata": {},
   "source": [
    "To answer this question we will use column 'Q20' -( What data visualization libraries or tools do you use on a regular basis? ) we will plot the data on a pie chart for a change in visuals from plane bar graphs ."
   ]
  },
  {
   "cell_type": "code",
   "execution_count": 41,
   "metadata": {},
   "outputs": [
    {
     "data": {
      "image/png": "[encoded data removed]",
      "text/plain": [
       "<Figure size 576x576 with 1 Axes>"
      ]
     },
     "metadata": {},
     "output_type": "display_data"
    }
   ],
   "source": [
    "visualization_tools = ['Ggplot/ggplot2', 'Matplotlib', 'Altair', 'Shiny', 'D3.js',\n",
    "                       'Plotly/PlotlyExpress', 'Bokeh', 'Seaborn', 'Geoplotlib', 'Leaflet/Folium']\n",
    "\n",
    "# Calculate the frequencies of each tool\n",
    "tool_frequencies = [new_survey_df[tool].value_counts().sum() for tool in ['Q20_Part_1_Ggplot/ggplot2', 'Q20_Part_2_Matplotlib', 'Q20_Part_3_Altair',\n",
    "                                                                          'Q20_Part_4_Shiny', 'Q20_Part_5_D3.js', 'Q20_Part_6_Plotly/PlotlyExpress',\n",
    "                                                                          'Q20_Part_7_Bokeh', 'Q20_Part_8_Seaborn', 'Q20_Part_9_Geoplotlib',\n",
    "                                                                          'Q20_Part_10_Leaflet/Folium']]\n",
    "\n",
    "# Create a DataFrame for the donut chart\n",
    "donut_df = pd.DataFrame({'Tool': visualization_tools, 'Frequency': tool_frequencies})\n",
    "\n",
    "# Sort the DataFrame by frequency in descending order\n",
    "donut_df = donut_df.sort_values(by='Frequency', ascending=False)\n",
    "\n",
    "# Set the figure size\n",
    "plt.figure(figsize=(8, 8))\n",
    "\n",
    "# Create the donut chart\n",
    "colors = ['blue', 'orange', 'green', 'red', 'purple', 'brown', 'pink', 'gray', 'cyan', 'magenta']\n",
    "explode = (0.05, 0.05, 0.05, 0.05, 0.05, 0.05, 0.05, 0.05, 0.05, 0.05)\n",
    "\n",
    "plt.pie(donut_df['Frequency'], labels=donut_df['Tool'], colors=colors, autopct='%1.1f%%',\n",
    "        startangle=90, counterclock=False, wedgeprops={'edgecolor': 'white'}, pctdistance=0.85, explode=explode)\n",
    "\n",
    "# Add a white circle to create a donut shape\n",
    "circle = plt.Circle((0, 0), 0.70, fc='white')\n",
    "plt.gca().add_artist(circle)\n",
    "\n",
    "# Set the title\n",
    "plt.title('Usage of Visualization Tools')\n",
    "\n",
    "# Equal aspect ratio ensures that the pie is drawn as a circle\n",
    "plt.axis('equal')\n",
    "\n",
    "# Show the plot\n",
    "plt.show()\n"
   ]
  },
  {
   "cell_type": "markdown",
   "metadata": {},
   "source": [
    "From the graph, it is evident that the top visualization tools used by the respondents are matplotlib, seaborn, and ggplot. These tools are widely popular in the data science and analytics community for creating visually appealing and informative visualizations. There are more popular visualization tools in market such as Tableau and PowerBi which are highly efficient and user friendly.\n",
    "These visualization tools offer a wide range of options and capabilities to effectively communicate insights and patterns in data."
   ]
  },
  {
   "cell_type": "markdown",
   "metadata": {},
   "source": [
    "#### What are the most used Machine Learning frameworks in Data Science ?\n",
    "Machine learning frameworks provide a foundation for developing and deploying machine learning models. They offer a collection of tools, libraries, and algorithms that facilitate the building, training, and evaluation of machine learning models."
   ]
  },
  {
   "cell_type": "markdown",
   "metadata": {},
   "source": [
    "To answer this question we will use Q28 - Which of the following machine learning frameworks do you use on a regular basis? "
   ]
  },
  {
   "cell_type": "code",
   "execution_count": 42,
   "metadata": {
    "scrolled": true
   },
   "outputs": [
    {
     "data": {
      "image/png": "[encoded data removed]",
      "text/plain": [
       "<Figure size 720x432 with 1 Axes>"
      ]
     },
     "metadata": {
      "needs_background": "light"
     },
     "output_type": "display_data"
    }
   ],
   "source": [
    "ml_frameworks = ['Scikit-learn', 'TensorFlow', 'Keras', 'RandomForest', 'Xgboost',\n",
    "                 'PyTorch', 'Caret', 'LightGBM', 'SparkMLib', 'Fast.ai']\n",
    "\n",
    "# Calculate the frequencies of each framework\n",
    "framework_frequencies = [new_survey_df[framework].value_counts().sum() for framework in ['Q28_Part_1_Scikit_learn', 'Q28_Part_2_TensorFlow', 'Q28_Part_3_Keras',\n",
    "                                                                                      'Q28_Part_4_RandomForest', 'Q28_Part_5_Xgboost', 'Q28_Part_6_PyTorch',\n",
    "                                                                                      'Q28_Part_7_Caret', 'Q28_Part_8_LightGBM', 'Q28_Part_9_SparkMLib',\n",
    "                                                                                      'Q28_Part_10_Fast.ai']]\n",
    "\n",
    "# Create a DataFrame for the bar plot\n",
    "framework_df = pd.DataFrame({'Framework': ml_frameworks, 'Frequency': framework_frequencies})\n",
    "\n",
    "# Sort the DataFrame by frequency in descending order\n",
    "framework_df = framework_df.sort_values(by='Frequency', ascending=False)\n",
    "\n",
    "# Set the figure size\n",
    "plt.figure(figsize=(10, 6))\n",
    "\n",
    "# Create the bar plot\n",
    "colors = ['blue', 'orange', 'green', 'red', 'purple', 'brown', 'pink', 'gray', 'cyan', 'magenta']\n",
    "plt.bar(framework_df['Framework'], framework_df['Frequency'], color=colors)\n",
    "\n",
    "# Set the title and labels\n",
    "plt.title('Usage of Machine Learning Frameworks')\n",
    "plt.xlabel('Framework')\n",
    "plt.ylabel('Frequency')\n",
    "\n",
    "# Rotate the x-axis labels if needed\n",
    "plt.xticks(rotation=90)\n",
    "\n",
    "# Show the plot\n",
    "plt.show()\n"
   ]
  },
  {
   "cell_type": "markdown",
   "metadata": {},
   "source": [
    "From the graph, it is evident that the top ML frameworks used by the respondents are Scikit-learn, TensorFlow, Keras, and Random Forest. These frameworks are widely popular in the field of machine learning and are extensively used for building and deploying ML models.\n",
    "\n",
    "1. Scikit-learn: Scikit-learn is a comprehensive machine learning library in Python. It provides a wide range of algorithms and tools for tasks such as classification, regression, clustering, dimensionality reduction, and more. \n",
    "\n",
    "2. TensorFlow: TensorFlow is an open-source deep learning framework developed by Google. It is widely used for building and training deep neural networks, as well as other machine learning models.\n",
    "\n",
    "3. Keras: Keras is a high-level neural networks API that is built on top of TensorFlow. It provides a user-friendly interface for designing, training, and evaluating deep learning models.\n",
    "\n",
    "4. Random Forest: Random Forest is an ensemble learning method that combines multiple decision trees to make predictions. It is a versatile and powerful algorithm used for both classification and regression tasks.\n",
    "\n",
    "These ML frameworks offer a range of algorithms, tools, and functionalities to support various machine learning tasks. They are widely adopted by data scientists and machine learning practitioners for developing robust and efficient ML models."
   ]
  },
  {
   "cell_type": "markdown",
   "metadata": {},
   "source": [
    "#### What are the most used Cloud_Computing_Platforms for data scientist ?\n",
    "Cloud computing platforms play a crucial role in modern data analytics and provide scalable infrastructure for hosting applications, storing data, and performing complex computations."
   ]
  },
  {
   "cell_type": "markdown",
   "metadata": {},
   "source": [
    "To answer this question - we will use Q29 -(Which of the following cloud computing platforms do you use on a regular basis?)"
   ]
  },
  {
   "cell_type": "code",
   "execution_count": 43,
   "metadata": {
    "scrolled": true
   },
   "outputs": [
    {
     "data": {
      "image/png": "[encoded data removed]",
      "text/plain": [
       "<Figure size 720x432 with 1 Axes>"
      ]
     },
     "metadata": {
      "needs_background": "light"
     },
     "output_type": "display_data"
    }
   ],
   "source": [
    "\n",
    "cloud_platforms = ['Google Cloud Platform (GCP)', 'Amazon Web Services (AWS)', 'Microsoft Azure',\n",
    "                   'IBM Cloud', 'Alibaba Cloud', 'Salesforce Cloud', 'Oracle Cloud', 'SAP Cloud',\n",
    "                   'VMware Cloud', 'Red Hat Cloud']\n",
    "\n",
    "# Calculate the frequencies of each platform\n",
    "platform_frequencies = [new_survey_df[platform].value_counts().sum() for platform in ['Q29_Part_1_GoogleCloudPlatform(GCP)', 'Q29_Part_2_AmazonWebServices(AWS)',\n",
    "                                                                                     'Q29_Part_3_MicrosoftAzure', 'Q29_Part_4_IBMCloud',\n",
    "                                                                                     'Q29_Part_5_AlibabaCloud', 'Q29_Part_6_SalesforceCloud',\n",
    "                                                                                     'Q29_Part_7_OracleCloud', 'Q29_Part_8_SAPCloud',\n",
    "                                                                                     'Q29_Part_9_VMwareCloud', 'Q29_Part_10_RedHatCloud']]\n",
    "# Create a DataFrame for the bar plot\n",
    "platform_df = pd.DataFrame({'Platform': cloud_platforms, 'Frequency': platform_frequencies})\n",
    "\n",
    "# Sort the DataFrame by frequency in descending order\n",
    "platform_df = platform_df.sort_values(by='Frequency', ascending=False)\n",
    "\n",
    "# Set the figure size\n",
    "plt.figure(figsize=(10, 6))\n",
    "\n",
    "# Create the bar plot\n",
    "colors = ['blue', 'orange', 'green', 'red', 'purple', 'brown', 'pink', 'gray', 'cyan', 'magenta']\n",
    "plt.bar(platform_df['Platform'], platform_df['Frequency'], color=colors)\n",
    "\n",
    "# Set the title and labels\n",
    "plt.title('Usage of Cloud Computing Platforms')\n",
    "plt.xlabel('Platform')\n",
    "plt.ylabel('Frequency')\n",
    "\n",
    "# Rotate the x-axis labels if needed\n",
    "plt.xticks(rotation=90)\n",
    "\n",
    "# Show the plot\n",
    "plt.show()\n"
   ]
  },
  {
   "cell_type": "markdown",
   "metadata": {},
   "source": [
    "From the graph, it is evident that the top cloud computing platforms used by the respondents are Amazon Web Services (AWS), Azure (Microsoft), and Google Cloud Platform (GCP). These platforms are widely adopted in the industry and offer a comprehensive suite of services for hosting applications, storing data, and performing complex computations in the cloud."
   ]
  },
  {
   "cell_type": "markdown",
   "metadata": {},
   "source": [
    "#### What are the most used Cloud_Computing_Products for data scientist ?\n",
    "Cloud computing products encompass a wide range of services and tools that enable organizations to leverage the power of cloud computing for various purposes."
   ]
  },
  {
   "cell_type": "markdown",
   "metadata": {},
   "source": [
    "To answer this question we will use Q30 - (Which specific cloud computing products do you use on a regular basis?)"
   ]
  },
  {
   "cell_type": "code",
   "execution_count": 44,
   "metadata": {
    "scrolled": true
   },
   "outputs": [
    {
     "data": {
      "image/png": "[encoded data removed]",
      "text/plain": [
       "<Figure size 720x432 with 1 Axes>"
      ]
     },
     "metadata": {
      "needs_background": "light"
     },
     "output_type": "display_data"
    }
   ],
   "source": [
    "\n",
    "cloud_products = ['AWS Elastic Compute Cloud (EC2)', 'Google Compute Engine (GCE)', 'AWS Lambda',\n",
    "                  'Azure Virtual Machines', 'Google App Engine', 'Google Cloud Functions',\n",
    "                  'AWS Elastic Beanstalk', 'Google Kubernetes Engine', 'AWS Batch',\n",
    "                  'Azure Container Service']\n",
    "\n",
    "# Calculate the frequencies of each product\n",
    "product_frequencies = [new_survey_df[product].value_counts().sum() for product in ['Q30_Part_1_AWSElasticComputeCloud(EC2)', 'Q30_Part_2_GoogleComputeEngine(GCE)',\n",
    "                                                                                  'Q30_Part_3_AWSLambda', 'Q30_Part_4_AzureVirtualMachines',\n",
    "                                                                                  'Q30_Part_5_GoogleAppEngine', 'Q30_Part_6_GoogleCloudFunctions',\n",
    "                                                                                  'Q30_Part_7_AWSElasticBeanstalk', 'Q30_Part_8_GoogleKubernetesEngine',\n",
    "                                                                                  'Q30_Part_9_AWSBatch', 'Q30_Part_10_AzureContainerService']]\n",
    "\n",
    "# Create a DataFrame for the bar plot\n",
    "product_df = pd.DataFrame({'Product': cloud_products, 'Frequency': product_frequencies})\n",
    "\n",
    "# Sort the DataFrame by frequency in descending order\n",
    "product_df = product_df.sort_values(by='Frequency', ascending=True)\n",
    "\n",
    "# Set the figure size\n",
    "plt.figure(figsize=(10, 6))\n",
    "\n",
    "# Create the bar plot\n",
    "colors = ['blue', 'orange', 'green', 'red', 'purple', 'brown', 'pink', 'gray', 'cyan', 'magenta']\n",
    "plt.barh(product_df['Product'], product_df['Frequency'], color=colors)\n",
    "\n",
    "# Set the title and labels\n",
    "plt.title('Usage of Cloud Computing Products')\n",
    "plt.xlabel('Frequency')\n",
    "plt.ylabel('Product')\n",
    "\n",
    "# Show the plot\n",
    "plt.show()\n"
   ]
  },
  {
   "cell_type": "markdown",
   "metadata": {},
   "source": [
    "Based on the data, the most used cloud computing products among the respondents are:\n",
    "\n",
    "1. AWS Elastic Compute Cloud (EC2): This service from Amazon Web Services (AWS) provides scalable virtual servers (instances) for computing workloads. It allows users to easily scale their computing resources up or down based on demand.\n",
    "\n",
    "2. Google Compute Engine: This offering from Google Cloud Platform (GCP) provides virtual machine instances that can be customized to meet specific needs. It offers flexibility and scalability for various computing workloads.\n",
    "\n",
    "3. AWS Lambda: This serverless computing service from AWS allows users to run code without provisioning or managing servers. It enables executing functions in response to events or triggers, providing a scalable and cost-effective solution.\n",
    "\n",
    "4. Azure Virtual Machines: This service from Microsoft Azure offers scalable virtual machines that can run a wide range of applications. It provides flexibility in terms of choosing the operating system, language, and development tools.\n",
    "\n",
    "These cloud computing products are widely used and offer a variety of features and benefits for different use cases. Organizations leverage these products to deploy applications, perform computations, handle workloads, and manage infrastructure in a scalable and efficient manner."
   ]
  },
  {
   "cell_type": "markdown",
   "metadata": {},
   "source": [
    "#### What are the most used Bigdata_Products for data scientist ?\n",
    "Big data products are specialized tools and platforms designed to handle and process large volumes of data, enabling organizations to extract valuable insights and make data-driven decisions. "
   ]
  },
  {
   "cell_type": "markdown",
   "metadata": {},
   "source": [
    "To answer this question we will use Q31 -(Which specific big data / analytics products do you use on a regular basis?)"
   ]
  },
  {
   "cell_type": "code",
   "execution_count": 45,
   "metadata": {
    "scrolled": true
   },
   "outputs": [
    {
     "data": {
      "image/png": "[encoded data removed]",
      "text/plain": [
       "<Figure size 720x432 with 1 Axes>"
      ]
     },
     "metadata": {
      "needs_background": "light"
     },
     "output_type": "display_data"
    }
   ],
   "source": [
    "\n",
    "bigdata_products = ['Google BigQuery', 'AWS Redshift', 'Databricks', 'AWS Elastic MapReduce',\n",
    "                    'Teradata', 'Microsoft Analysis Services', 'Google Cloud Dataflow',\n",
    "                    'AWS Athena', 'AWS Kinesis', 'Google Cloud Pub/Sub']\n",
    "\n",
    "# Calculate the frequencies of each product\n",
    "product_frequencies = [new_survey_df[product].value_counts().sum() for product in ['Q31_Part_1_GoogleBigQuery', 'Q31_Part_2_AWSRedshift',\n",
    "                                                                                  'Q31_Part_3_Databricks', 'Q31_Part_4_AWSElasticMapReduce',\n",
    "                                                                                  'Q31_Part_5_Teradata', 'Q31_Part_6_MicrosoftAnalysisServices',\n",
    "                                                                                  'Q31_Part_7_GoogleCloudDataflow', 'Q31_Part_8_AWSAthena',\n",
    "                                                                                  'Q31_Part_9_AWSKinesis', 'Q31_Part_10_GoogleCloudPub/Sub']]\n",
    "\n",
    "# Create a DataFrame for the bar plot\n",
    "product_df = pd.DataFrame({'Product': bigdata_products, 'Frequency': product_frequencies})\n",
    "\n",
    "# Sort the DataFrame by frequency in descending order\n",
    "product_df = product_df.sort_values(by='Frequency', ascending=True)\n",
    "\n",
    "# Set the figure size\n",
    "plt.figure(figsize=(10, 6))\n",
    "\n",
    "# Define the color and width of the bars\n",
    "bar_color = 'purple'\n",
    "bar_width = 0.6\n",
    "\n",
    "# Create the bar plot with custom style\n",
    "bars = plt.barh(product_df['Product'], product_df['Frequency'], color=bar_color, height=bar_width)\n",
    "\n",
    "# Customize other properties of the bars, such as edgecolor and linewidth\n",
    "for bar in bars:\n",
    "    bar.set_edgecolor('black')\n",
    "    bar.set_linewidth(1)\n",
    "\n",
    "# Set the title and labels\n",
    "plt.title('Usage of Big Data Analytics Products')\n",
    "plt.xlabel('Frequency')\n",
    "plt.ylabel('Product')\n",
    "\n",
    "# Show the plot\n",
    "plt.show()\n"
   ]
  },
  {
   "cell_type": "markdown",
   "metadata": {},
   "source": [
    "Based on the graph, the top big data analytics products used by the respondents are:\n",
    "\n",
    "1. Google BigQuery: Google BigQuery is a serverless data warehouse offered by Google Cloud. It allows users to analyze massive datasets using SQL queries and provides high scalability and performance.\n",
    "\n",
    "2. Databricks: Databricks is a unified analytics platform that combines data engineering, data science, and machine learning capabilities. It integrates with popular big data tools and frameworks, such as Apache Spark, to provide a collaborative environment for data analytics and machine learning.\n",
    "\n",
    "3. AWS Redshift: Amazon Redshift is a fully managed data warehousing service provided by Amazon Web Services (AWS). It is designed for handling large-scale data analytics workloads and offers high performance, scalability, and ease of use.\n",
    "\n",
    "4. Google Cloud Dataflow: Google Cloud Dataflow is a serverless data processing service offered by Google Cloud. It enables users to develop and execute data processing pipelines for batch and streaming data using popular programming languages and frameworks like Apache Beam.\n",
    "\n",
    "These big data analytics products provide powerful capabilities for processing and analyzing large datasets, enabling organizations to derive valuable insights and make data-driven decisions."
   ]
  },
  {
   "cell_type": "markdown",
   "metadata": {},
   "source": [
    "#### What are the most used Machine_Learning_Products for data scientist ?\n",
    "Machine learning products are software tools and platforms that enable the development, deployment, and management of machine learning models. These products provide various features and functionalities to streamline the machine learning workflow and empower organizations to leverage the power of artificial intelligence.\n"
   ]
  },
  {
   "cell_type": "markdown",
   "metadata": {},
   "source": [
    "To answer this question we will use Q32 - Which of the following machine learning products do you use on a regular basis? "
   ]
  },
  {
   "cell_type": "code",
   "execution_count": 46,
   "metadata": {
    "scrolled": true
   },
   "outputs": [
    {
     "data": {
      "image/png": "[encoded data removed]",
      "text/plain": [
       "<Figure size 720x432 with 1 Axes>"
      ]
     },
     "metadata": {
      "needs_background": "light"
     },
     "output_type": "display_data"
    }
   ],
   "source": [
    "\n",
    "machine_learning_products = ['SAS', 'Cloudera', 'Azure Machine Learning Studio',\n",
    "                             'Google Cloud Machine Learning Engine', 'Google Cloud Vision',\n",
    "                             'Google Cloud Speech-to-Text', 'Google Cloud Natural Language',\n",
    "                             'RapidMiner', 'Google Cloud Translation', 'Amazon SageMaker']\n",
    "\n",
    "# Calculate the frequencies of each product\n",
    "product_frequencies = [new_survey_df[product].value_counts().sum() for product in ['Q32_Part_1_SAS', 'Q32_Part_2_Cloudera',\n",
    "                                                                                  'Q32_Part_3_AzureMachineLearningStudio', 'Q32_Part_4_GoogleCloudMachineLearningEngine',\n",
    "                                                                                  'Q32_Part_5_GoogleCloudVision', 'Q32_Part_6_GoogleCloudSpeech_to_Text',\n",
    "                                                                                  'Q32_Part_7_GoogleCloudNaturalLanguage', 'Q32_Part_8_RapidMiner',\n",
    "                                                                                  'Q32_Part_9_GoogleCloudTranslation', 'Q32_Part_10_AmazonSageMaker']]\n",
    "\n",
    "# Create a DataFrame for the bar plot\n",
    "product_df = pd.DataFrame({'Product': machine_learning_products, 'Frequency': product_frequencies})\n",
    "\n",
    "# Sort the DataFrame by frequency in descending order\n",
    "product_df = product_df.sort_values(by='Frequency', ascending=False)\n",
    "\n",
    "# Set the figure size\n",
    "plt.figure(figsize=(10, 6))\n",
    "\n",
    "# Define an attractive color palette\n",
    "palette = sns.color_palette('Set2', n_colors=len(machine_learning_products))\n",
    "\n",
    "# Create the bar plot with the attractive color palette\n",
    "sns.barplot(x='Frequency', y='Product', data=product_df, palette=palette)\n",
    "\n",
    "# Set the title and labels\n",
    "plt.title('Usage of Machine Learning Products')\n",
    "plt.xlabel('Frequency')\n",
    "plt.ylabel('Product')\n",
    "\n",
    "# Show the plot\n",
    "plt.show()\n"
   ]
  },
  {
   "cell_type": "markdown",
   "metadata": {},
   "source": [
    "According to the graph, the top machine learning products used by the respondents are:\n",
    "\n",
    "1. Google Cloud Machine Learning Engine: Google Cloud Machine Learning Engine is a cloud-based service provided by Google that enables users to build, deploy, and manage machine learning models. \n",
    "\n",
    "2. Azure Machine Learning Studio: Azure Machine Learning Studio is a cloud-based platform offered by Microsoft that allows users to develop, train, and deploy machine learning models. \n",
    "\n",
    "3. Amazon SageMaker: Amazon SageMaker is a fully managed machine learning service provided by Amazon Web Services (AWS). It offers a complete set of tools for building, training, and deploying machine learning models at scale. \n",
    "4. SAS: SAS is a software suite that provides advanced analytics and machine learning capabilities. It offers a wide range of tools and solutions for data management, data analysis, and predictive modeling. \n",
    "These machine learning products offer various features and capabilities to support the development and deployment of machine learning models, catering to the diverse needs of organizations and data scientists."
   ]
  },
  {
   "cell_type": "markdown",
   "metadata": {},
   "source": [
    "#### What are the most used Auto_ML tools for data scientist ?\n",
    "AutoML (Automated Machine Learning) tools are designed to automate the process of building machine learning models, making it easier and more accessible for users without extensive machine learning expertise. These tools automate tasks such as feature engineering, model selection, hyperparameter tuning, and model evaluation. "
   ]
  },
  {
   "cell_type": "markdown",
   "metadata": {},
   "source": [
    "To answer this question we will use Q33 - (Which automated machine learning tools (or partial AutoML tools) do you use on a regular basis?)"
   ]
  },
  {
   "cell_type": "code",
   "execution_count": 47,
   "metadata": {
    "scrolled": true
   },
   "outputs": [
    {
     "data": {
      "image/png": "[encoded data removed]",
      "text/plain": [
       "<Figure size 720x432 with 1 Axes>"
      ]
     },
     "metadata": {
      "needs_background": "light"
     },
     "output_type": "display_data"
    }
   ],
   "source": [
    "\n",
    "auto_ml_tools = ['Google AutoML', 'H2O Driverless AI', 'Databricks AutoML',\n",
    "                 'DataRobot AutoML', 'Tpot', 'Auto Keras',\n",
    "                 'Auto-sklearn', 'auto_ml', 'Xcessiv', 'MLbox']\n",
    "\n",
    "# Calculate the frequencies of each tool\n",
    "tool_frequencies = [new_survey_df[tool].value_counts().sum() for tool in ['Q33_Part_1_GoogleAutoML', 'Q33_Part_2_H20DriverlessAI',\n",
    "                                                                         'Q33_Part_3_DatabricksAutoML', 'Q33_Part_4_DataRobotAutoML',\n",
    "                                                                         'Q33_Part_5_Tpot', 'Q33_Part_6_Auto_Keras',\n",
    "                                                                         'Q33_Part_7_Auto_Sklearn', 'Q33_Part_8_Auto_ml',\n",
    "                                                                         'Q33_Part_9_Xcessiv', 'Q33_Part_10_MLbox']]\n",
    "\n",
    "# Create a DataFrame for the bar plot\n",
    "tool_df = pd.DataFrame({'Tool': auto_ml_tools, 'Frequency': tool_frequencies})\n",
    "\n",
    "# Sort the DataFrame by frequency in descending order\n",
    "tool_df = tool_df.sort_values(by='Frequency', ascending=False)\n",
    "\n",
    "# Set the figure size\n",
    "plt.figure(figsize=(10, 6))\n",
    "\n",
    "# Define a custom color palette\n",
    "colors = ['#FF5A5F', '#FF3F00', '#FFB000', '#94D3AC', '#007A87',\n",
    "          '#6A0572', '#0080FF', '#1AE8FC', '#FFD600', '#FF7538']\n",
    "\n",
    "# Create the bar plot with custom colors\n",
    "sns.barplot(x='Frequency', y='Tool', data=tool_df, palette=colors)\n",
    "\n",
    "# Set the title and labels with larger font size\n",
    "plt.title('Usage of Automated ML Tools', fontsize=16)\n",
    "plt.xlabel('Frequency', fontsize=12)\n",
    "plt.ylabel('Tool', fontsize=12)\n",
    "\n",
    "# Show the plot\n",
    "plt.show()\n"
   ]
  },
  {
   "cell_type": "markdown",
   "metadata": {},
   "source": [
    "According to the graph, Auto-Sklearn is the top automated machine learning tool among the respondents. Auto-Sklearn is an open-source Python library that automates the process of machine learning, including feature engineering, model selection, hyperparameter tuning, and model optimization. "
   ]
  },
  {
   "cell_type": "markdown",
   "metadata": {},
   "source": [
    "#### What are the most used RDBMS_Products for data scientist ?\n",
    "RDBMS (Relational Database Management System) products are software tools and platforms used for managing relational databases. These products provide a structured and efficient way to store, organize, and retrieve data using the relational model."
   ]
  },
  {
   "cell_type": "markdown",
   "metadata": {},
   "source": [
    "To answer this question we will use Q34 -Which of the following relational database products do you use on a regular basis? "
   ]
  },
  {
   "cell_type": "code",
   "execution_count": 48,
   "metadata": {
    "scrolled": true
   },
   "outputs": [
    {
     "data": {
      "image/png": "[encoded data removed]",
      "text/plain": [
       "<Figure size 720x432 with 1 Axes>"
      ]
     },
     "metadata": {
      "needs_background": "light"
     },
     "output_type": "display_data"
    }
   ],
   "source": [
    "\n",
    "rdbms_products = ['MySQL', 'PostgreSQL', 'SQLite', 'Microsoft SQL Server', 'Oracle Database',\n",
    "                  'Microsoft Access', 'AWS RDS', 'AWS DynamoDB', 'Azure SQL Database', 'Google Cloud SQL']\n",
    "\n",
    "# Calculate the frequencies of each product\n",
    "product_frequencies = [new_survey_df[product].value_counts().sum() for product in ['Q34_Part_1_MySQL', 'Q34_Part_2_PostgresSQL',\n",
    "                                                                                   'Q34_Part_3_SQLite', 'Q34_Part_4_MicrosoftSQLServer',\n",
    "                                                                                   'Q34_Part_5_OracleDatabase', 'Q34_Part_6_MicrosoftAccess',\n",
    "                                                                                   'Q34_Part_7_AWSRelationalDatabaseService', 'Q34_Part_8_AWSDynamoDB',\n",
    "                                                                                   'Q34_Part_9_AzureSQLDatabase', 'Q34_Part_10_GoogleCloudSQL']]\n",
    "\n",
    "# Create a DataFrame for the bar plot\n",
    "product_df = pd.DataFrame({'Product': rdbms_products, 'Frequency': product_frequencies})\n",
    "\n",
    "# Sort the DataFrame by frequency in descending order\n",
    "product_df = product_df.sort_values(by='Frequency', ascending=False)\n",
    "\n",
    "# Set the figure size\n",
    "plt.figure(figsize=(10, 6))\n",
    "\n",
    "# Create the bar plot\n",
    "sns.barplot(x='Frequency', y='Product', data=product_df)\n",
    "\n",
    "# Set the title and labels with larger font size\n",
    "plt.title('Usage of RDBMS Products', fontsize=16)\n",
    "plt.xlabel('Frequency', fontsize=12)\n",
    "plt.ylabel('Product', fontsize=12)\n",
    "\n",
    "# Set the font size for tick labels\n",
    "plt.xticks(fontsize=10)\n",
    "plt.yticks(fontsize=10)\n",
    "\n",
    "# Show the plot\n",
    "plt.show()\n"
   ]
  },
  {
   "cell_type": "markdown",
   "metadata": {},
   "source": [
    "According to the graph, the top RDBMS products used by the respondents are:\n",
    "\n",
    "1. MySQL: MySQL is an open-source RDBMS known for its scalability, reliability, and ease of use. It is widely used for web-based applications and is compatible with various operating systems.\n",
    "\n",
    "2. PostgreSQL: PostgreSQL is an open-source object-relational database management system known for its robustness, extensibility, and advanced features. It provides support for a wide range of data types and offers strong transactional capabilities.\n",
    "\n",
    "3. Microsoft SQL Server: Microsoft SQL Server is a relational database management system developed by Microsoft. It is widely used in enterprise environments and provides features like high availability, scalability, and business intelligence capabilities.\n",
    "\n",
    "4. SQLite: SQLite is a lightweight, file-based RDBMS that is widely used in embedded systems and mobile applications. It is known for its simplicity, small footprint, and ease of integration.\n",
    "\n",
    "5. Oracle Database: Oracle Database is a commercial RDBMS known for its reliability, scalability, and security features. It is widely used in enterprise-level applications and supports advanced data management capabilities.\n",
    "\n",
    "These RDBMS products offer a variety of features and are chosen based on specific requirements such as scalability, performance, cost, and compatibility with existing systems."
   ]
  },
  {
   "cell_type": "markdown",
   "metadata": {},
   "source": [
    "#### What is the highest salary of the individual using the top mentioned products for data science ?"
   ]
  },
  {
   "cell_type": "code",
   "execution_count": 49,
   "metadata": {
    "scrolled": true
   },
   "outputs": [
    {
     "name": "stdout",
     "output_type": "stream",
     "text": [
      "The highest salary among respondents using the top categories is: 400000\n"
     ]
    }
   ],
   "source": [
    "# Filter the survey data based on the top categories\n",
    "filtered_data = new_survey_df[\n",
    "    (new_survey_df['Q18_Part_1_Python'].notnull()) | (new_survey_df['Q18_Part_2_R'].notnull()) |  # Filter based on programming languages\n",
    "    (new_survey_df['Q34_Part_1_MySQL'].notnull()) | (new_survey_df['Q34_Part_2_PostgresSQL'].notnull()) |  # Filter based on RDBMS products\n",
    "    (new_survey_df['Q28_Part_1_Scikit_learn'].notnull()) | (new_survey_df['Q28_Part_2_TensorFlow'].notnull()) |  # Filter based on ML frameworks\n",
    "    (new_survey_df['Q32_Part_1_SAS'].notnull()) | (new_survey_df['Q32_Part_2_Cloudera'].notnull()) |  # Filter based on ML tools\n",
    "    (new_survey_df['Q20_Part_1_Ggplot/ggplot2'].notnull()) | (new_survey_df['Q20_Part_2_Matplotlib'].notnull())  # Filter based on visualization tool\n",
    "]\n",
    "\n",
    "# Find the maximum salary among the filtered respondents\n",
    "max_salary = filtered_data['Salary'].max()\n",
    "\n",
    "# Print the maximum salary\n",
    "print(f\"The highest salary among respondents using the top categories is: {max_salary}\")\n"
   ]
  },
  {
   "cell_type": "markdown",
   "metadata": {},
   "source": [
    "#### Which programming language has the highest salary earned by the user ?"
   ]
  },
  {
   "cell_type": "code",
   "execution_count": 50,
   "metadata": {},
   "outputs": [
    {
     "name": "stdout",
     "output_type": "stream",
     "text": [
      "The programming language with the highest salary is: Q18_Part_1_Python\n",
      "The highest salary among respondents using this language is: 400000\n"
     ]
    }
   ],
   "source": [
    "# Define the programming language columns\n",
    "programming_language_cols = ['Q18_Part_1_Python', 'Q18_Part_2_R', 'Q18_Part_3_SQL', 'Q18_Part_4_C', 'Q18_Part_5_C++',\n",
    "                             'Q18_Part_6_Java', 'Q18_Part_7_Javascript', 'Q18_Part_8_TypeScript', 'Q18_Part_9_Bash',\n",
    "                             'Q18_Part_10_MATLAB']\n",
    "\n",
    "# Find the programming language with the highest salary\n",
    "highest_salary_language = None\n",
    "max_salary = float('-inf')  # Initialize with negative infinity\n",
    "\n",
    "# Iterate over each programming language column\n",
    "for col in programming_language_cols:\n",
    "    # Calculate the maximum salary within the programming language group\n",
    "    lang_max_salary = filtered_data.loc[filtered_data[col].notnull(), 'Salary'].max()\n",
    "    \n",
    "    # Compare the maximum salary with the current highest salary\n",
    "    if lang_max_salary > max_salary:\n",
    "        max_salary = lang_max_salary\n",
    "        highest_salary_language = col\n",
    "\n",
    "# Print the programming language with the highest salary\n",
    "print(f\"The programming language with the highest salary is: {highest_salary_language}\")\n",
    "print(f\"The highest salary among respondents using this language is: {max_salary}\")"
   ]
  },
  {
   "cell_type": "markdown",
   "metadata": {},
   "source": [
    "#### Which Relational data base management systems has the highest salary earned by the user ?"
   ]
  },
  {
   "cell_type": "code",
   "execution_count": 51,
   "metadata": {},
   "outputs": [
    {
     "name": "stdout",
     "output_type": "stream",
     "text": [
      "The RDBMS user with the highest salary is: Q34_Part_1_MySQL\n",
      "The highest salary among respondents using this RDBMS is: 400000\n"
     ]
    }
   ],
   "source": [
    "# Define the RDBMS columns\n",
    "rdbms_cols = ['Q34_Part_1_MySQL', 'Q34_Part_2_PostgresSQL', 'Q34_Part_3_SQLite', 'Q34_Part_4_MicrosoftSQLServer',\n",
    "              'Q34_Part_5_OracleDatabase', 'Q34_Part_6_MicrosoftAccess', 'Q34_Part_7_AWSRelationalDatabaseService',\n",
    "              'Q34_Part_8_AWSDynamoDB', 'Q34_Part_9_AzureSQLDatabase', 'Q34_Part_10_GoogleCloudSQL']\n",
    "\n",
    "# Find the RDBMS user with the highest salary\n",
    "highest_salary_user = None\n",
    "max_salary = float('-inf')  # Initialize with negative infinity\n",
    "\n",
    "# Iterate over each RDBMS column\n",
    "for col in rdbms_cols:\n",
    "    # Calculate the maximum salary within the RDBMS group\n",
    "    rdbms_max_salary = filtered_data.loc[filtered_data[col].notnull(), 'Salary'].max()\n",
    "    \n",
    "    # Compare the maximum salary with the current highest salary\n",
    "    if rdbms_max_salary > max_salary:\n",
    "        max_salary = rdbms_max_salary\n",
    "        highest_salary_user = col\n",
    "\n",
    "# Print the RDBMS user with the highest salary and its value\n",
    "print(f\"The RDBMS user with the highest salary is: {highest_salary_user}\")\n",
    "print(f\"The highest salary among respondents using this RDBMS is: {max_salary}\")\n"
   ]
  },
  {
   "cell_type": "markdown",
   "metadata": {},
   "source": [
    "## Inferences and Conclusion \n",
    "We've drawn many inferences from the survey. Here's a summary of a few of them:\n",
    "* It appears that a disproportionately high number of respondents are from the India and USA, probably because the survey is in English, and these countries have the highest English-speaking populations. We can already see that the survey may not be representative of the global programming community - especially from non-English speaking countries. Programmers from non-English speaking countries are almost certainly underrepresented.\n",
    "* large percentage of respondents are 20-45 years old. It's somewhat representative of the programming community in general. Many young people have taken up computer science as their field of study or profession in the last 20 years.\n",
    "* Only about 18.2% of survey respondents who have answered the question identify as women or prefered not to say.\n",
    "* There is a huge gender bias between male and female in the IT domain . The Difference came out the data is around 28% which is less than the estimated value of 40%.\n",
    "* USA comes at the top for paying highest salaries to IT officials while India comes at position 46 out of 59 countries . \n",
    "* The top field serving for the Highest Salaries is Project Management \n",
    "* Coursera and Kaggle courses are most preferred by the respondents to study data science .\n",
    "* Most respondents prefer to use Local development tools such as Rstudios , jupyter lab , VScode etc.\n",
    "* most used language - Python\n",
    "* recommended language - Python\n",
    "* Visualization tool - Mtplotlib , seaborn , Ggplot\n",
    "* Ml framework - Scikit learn , tensorflow , Keras \n",
    "* Cloud computing Platforms -Amazon web services (AWS) ,Azure , google cloud\n",
    "* Cloud computing products - AWS Elastic Compute Cloud (EC2) , Google Compute Engine ,AWS lambda , Azure Virtual machines \n",
    "* Big data products - google biquery , databricks , Aws redshift\n",
    "* Machine Learning Products - Google cloud machine learning engine , azure machine learning studios , amazon sage maker .\n",
    "* Auto_mL tools -Auto Sklearn\n",
    "* Rdbms Products - Sql ,postgre Sql , microsoft Sql server"
   ]
  },
  {
   "cell_type": "markdown",
   "metadata": {},
   "source": [
    "### Future Work and References \n",
    "In future analyses, we plan to incorporate more recent data along with previous year's data to compare and identify emerging trends in the field of data science and analytics. This will enable us to create a more curated list of recommended courses and explore new data analysis software tools.\n",
    "\n",
    "Additionally, we aim to expand our analysis by including both free and paid courses. This will provide a comprehensive perspective on the available learning resources and help individuals make informed decisions based on their preferences and budget.\n",
    "\n",
    "Furthermore, we are considering incorporating links to favorite YouTube channels that offer valuable content related to data science and analytics. This will serve as a valuable resource for individuals seeking additional learning materials and alternative ways to enhance their knowledge and skills.\n",
    "\n",
    "By continuously updating our analysis and incorporating new data sources, courses, software tools, and educational platforms, we strive to provide a comprehensive and up-to-date guide for students and aspiring data scientists in their journey of learning and mastering data science and analytics.\n",
    "Some References \n",
    "* https://www.kaggle.com/competitions/kaggle-survey-2019/data \n",
    "* https://jovian-py.readthedocs.io/en/latest/user-guide/attach.html#how-to-attach-files\n",
    "* https://docs.python.org/3/library/re.html\n",
    "*          https://r02b.github.io/seaborn_palettes/#:~:text=to%20the%20others.-,matplotlib%20palettes%2C%20and%20Seaborn%20variations,are%20tab20%20%2C%20tab20b%20and%20tab20c%20"
   ]
  }
 ],
 "metadata": {
  "kernelspec": {
   "display_name": "Python 3 (ipykernel)",
   "language": "python",
   "name": "python3"
  },
  "language_info": {
   "codemirror_mode": {
    "name": "ipython",
    "version": 3
   },
   "file_extension": ".py",
   "mimetype": "text/x-python",
   "name": "python",
   "nbconvert_exporter": "python",
   "pygments_lexer": "ipython3",
   "version": "3.9.7"
  }
 },
 "nbformat": 4,
 "nbformat_minor": 2
}
